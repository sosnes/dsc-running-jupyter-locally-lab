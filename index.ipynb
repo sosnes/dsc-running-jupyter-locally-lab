{
  "cells": [
    {
      "cell_type": "markdown",
      "metadata": {
        "id": "view-in-github",
        "colab_type": "text"
      },
      "source": [
        "<a href=\"https://colab.research.google.com/github/sosnes/dsc-running-jupyter-locally-lab/blob/master/index.ipynb\" target=\"_parent\"><img src=\"https://colab.research.google.com/assets/colab-badge.svg\" alt=\"Open In Colab\"/></a>"
      ]
    },
    {
      "cell_type": "markdown",
      "metadata": {
        "id": "H36ATgfMEDl2"
      },
      "source": [
        "# Introduction to Variables: Strings - Lab"
      ]
    },
    {
      "cell_type": "markdown",
      "metadata": {
        "id": "_qj0nIUpEDl5"
      },
      "source": [
        "## Introduction\n",
        "Okay, we have learned about our first data type, the String! Now let's do a little practice with strings. We'll use the methods and functions we introduced in the previous lesson to flex our string-manipulating muscles!"
      ]
    },
    {
      "cell_type": "markdown",
      "metadata": {
        "id": "FADQoUIvEDl6"
      },
      "source": [
        "## Objectives\n",
        "\n",
        "You will be able to:\n",
        "\n",
        "* Apply string methods to make changes to a string\n",
        "* Use concatenation to combine strings"
      ]
    },
    {
      "cell_type": "markdown",
      "metadata": {
        "id": "gjFtLK_NEDl6"
      },
      "source": [
        "## Instructions\n",
        "\n",
        "Follow the steps below to manipulate the strings and assign the values to the variables below.\n",
        "\n",
        "**1.** Below, we have a sentence whose cases are all over the place. Let's normalize the cases and make everything lower case except the first letter in the sentence. **hint:** *there is a string method that does this*"
      ]
    },
    {
      "cell_type": "code",
      "execution_count": 13,
      "metadata": {
        "id": "XwzEwZxZEDl6",
        "outputId": "27933cd2-7236-475a-e00b-6a8efa75159a",
        "colab": {
          "base_uri": "https://localhost:8080/",
          "height": 36
        }
      },
      "outputs": [
        {
          "output_type": "execute_result",
          "data": {
            "text/plain": [
              "'Wow we love coding and strings!'"
            ],
            "application/vnd.google.colaboratory.intrinsic+json": {
              "type": "string"
            }
          },
          "metadata": {},
          "execution_count": 13
        }
      ],
      "source": [
        "sentence = \"woW WE LOVE cOdInG and strINGS!\".capitalize()\n",
        "sentence"
      ]
    },
    {
      "cell_type": "markdown",
      "metadata": {
        "id": "Zh6jdxvOEDl8"
      },
      "source": [
        "**2.** Next, we have our Flatiron mantra, but it's not in title case like it should be! Let's fix that and use another string method that makes all strings first letter capitalized."
      ]
    },
    {
      "cell_type": "code",
      "execution_count": 14,
      "metadata": {
        "id": "hz7E56Z1EDl8",
        "outputId": "ed47314b-1701-4777-ed15-899002445773",
        "colab": {
          "base_uri": "https://localhost:8080/",
          "height": 36
        }
      },
      "outputs": [
        {
          "output_type": "execute_result",
          "data": {
            "text/plain": [
              "'Learn. Love. Code.'"
            ],
            "application/vnd.google.colaboratory.intrinsic+json": {
              "type": "string"
            }
          },
          "metadata": {},
          "execution_count": 14
        }
      ],
      "source": [
        "flatiron_mantra = \"learn. love. code.\".title()\n",
        "flatiron_mantra"
      ]
    },
    {
      "cell_type": "markdown",
      "metadata": {
        "id": "at_MCOrtEDl9"
      },
      "source": [
        "**3.** The next thing we want to do is practice turning other data types into strings. Below, we have a number `1234`, which happens to be our street number in our address, which is a string. So, let's turn the number into a string so we can eventually add it to our address. The process of linking different strings together is called **concatenation**."
      ]
    },
    {
      "cell_type": "code",
      "execution_count": 15,
      "metadata": {
        "id": "-_Ytb9Q5EDl9",
        "outputId": "b9a40ab7-9990-4308-b5dd-5fc3f4a7b6d9",
        "colab": {
          "base_uri": "https://localhost:8080/",
          "height": 36
        }
      },
      "outputs": [
        {
          "output_type": "execute_result",
          "data": {
            "text/plain": [
              "'1234'"
            ],
            "application/vnd.google.colaboratory.intrinsic+json": {
              "type": "string"
            }
          },
          "metadata": {},
          "execution_count": 15
        }
      ],
      "source": [
        "num_to_string = \"1234\"\n",
        "num_to_string"
      ]
    },
    {
      "cell_type": "markdown",
      "metadata": {
        "id": "xN0RQNxAEDl9"
      },
      "source": [
        "**4.** Let's take the `num_to_string` and add it to the beginning of our street address below. We need to concatenate the variable to the beginning of our string so that we have our full address all in one string and assigned to the variable `full_address`. **hint:** `None` *is a placeholder in the below code for you to edit*"
      ]
    },
    {
      "cell_type": "code",
      "execution_count": 16,
      "metadata": {
        "id": "gmC9_rIjEDl9",
        "outputId": "ff5842a4-2a0b-4207-a822-b76794c5a4a6",
        "colab": {
          "base_uri": "https://localhost:8080/",
          "height": 36
        }
      },
      "outputs": [
        {
          "output_type": "execute_result",
          "data": {
            "text/plain": [
              "'1234 Abc street, Hometown USA'"
            ],
            "application/vnd.google.colaboratory.intrinsic+json": {
              "type": "string"
            }
          },
          "metadata": {},
          "execution_count": 16
        }
      ],
      "source": [
        "full_address = '1234' + \" Abc street, Hometown USA\"\n",
        "full_address"
      ]
    },
    {
      "cell_type": "markdown",
      "metadata": {
        "id": "-bYd6yXDEDl-"
      },
      "source": [
        "**5.** Finally, let's replace some of the characters in a string. Let's say Bart is upset with his family and wants to be adopted by the Flanders family. How would you replace his last name?\n",
        "\n",
        "**Hint:** We did not directly cover this method in the lesson. Check out the string helper docstring for a list of available methods."
      ]
    },
    {
      "cell_type": "code",
      "execution_count": null,
      "metadata": {
        "id": "1mnuGEvbEDl-"
      },
      "outputs": [],
      "source": [
        "help(str)"
      ]
    },
    {
      "cell_type": "code",
      "execution_count": 34,
      "metadata": {
        "id": "5W8NQXbbEDl-"
      },
      "outputs": [],
      "source": [
        "name = \"Bart Simpson\"\n",
        "name = name.replace('Simpson', 'Flanders')\n",
        "print = name"
      ]
    },
    {
      "cell_type": "markdown",
      "metadata": {
        "id": "skYdBoa1EDl-"
      },
      "source": [
        "## Summary\n",
        "Great work! In this lab we practiced our skills with strings. We can now manipulate, coerce, and concatenate strings. Remember if there are any things you can't remember or want to discover about code that isn't mentioned in this material, googling is always a great practice!"
      ]
    }
  ],
  "metadata": {
    "kernelspec": {
      "display_name": "Python (learn-env)",
      "language": "python",
      "name": "learn-env"
    },
    "language_info": {
      "codemirror_mode": {
        "name": "ipython",
        "version": 3
      },
      "file_extension": ".py",
      "mimetype": "text/x-python",
      "name": "python",
      "nbconvert_exporter": "python",
      "pygments_lexer": "ipython3",
      "version": "3.8.5"
    },
    "colab": {
      "provenance": [],
      "include_colab_link": true
    }
  },
  "nbformat": 4,
  "nbformat_minor": 0
}