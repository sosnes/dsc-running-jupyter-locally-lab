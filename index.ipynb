{
  "cells": [
    {
      "cell_type": "markdown",
      "metadata": {
        "id": "view-in-github",
        "colab_type": "text"
      },
      "source": [
        "<a href=\"https://colab.research.google.com/github/sosnes/dsc-running-jupyter-locally-lab/blob/master/index.ipynb\" target=\"_parent\"><img src=\"https://colab.research.google.com/assets/colab-badge.svg\" alt=\"Open In Colab\"/></a>"
      ]
    },
    {
      "cell_type": "markdown",
      "metadata": {
        "id": "YTSCvVRbMM3T"
      },
      "source": [
        "# Introduction to Variables: Variable Assignment - Lab"
      ]
    },
    {
      "cell_type": "markdown",
      "metadata": {
        "id": "18pbVO9cMM3V"
      },
      "source": [
        "## Introduction\n",
        "Now that we know about variables, we want to put them to use by associating them with some data.  Here, we will be using variables to store information related to a vacation that we would like to go on.\n",
        "\n",
        "Just as before, we ask you to run the code and ensure that it matches what is commented out."
      ]
    },
    {
      "cell_type": "markdown",
      "metadata": {
        "id": "I84Kkbo8MM3V"
      },
      "source": [
        "## Objectives\n",
        "\n",
        "You will be able to:\n",
        "\n",
        "* Assign and declare a python variable"
      ]
    },
    {
      "cell_type": "markdown",
      "metadata": {
        "id": "j7LyQltbMM3V"
      },
      "source": [
        "## Assigning variables"
      ]
    },
    {
      "cell_type": "markdown",
      "metadata": {
        "id": "LpSa8jeuMM3V"
      },
      "source": [
        "Assign the string \"January\" to the variable `travel_month`, as that is the month we would like to travel."
      ]
    },
    {
      "cell_type": "markdown",
      "metadata": {
        "id": "W6E9nzCwMM3W"
      },
      "source": [
        "> We start by setting the variable equal to the data type None.  As we know, `None` represents the absence of a value. Now we can take care of assigning the variable to something other than `None`."
      ]
    },
    {
      "cell_type": "code",
      "execution_count": null,
      "metadata": {
        "id": "VWFRxoQtMM3W"
      },
      "outputs": [],
      "source": [
        "travel_month # \"January\""
      ]
    },
    {
      "cell_type": "markdown",
      "metadata": {
        "id": "MG7zqikOMM3W"
      },
      "source": [
        "Now let's assign a variable equal to the number of weeks that we would like to travel, 3."
      ]
    },
    {
      "cell_type": "code",
      "execution_count": 13,
      "metadata": {
        "id": "7G0jDnuEMM3W"
      },
      "outputs": [],
      "source": [
        "number_of_weeks = 3"
      ]
    },
    {
      "cell_type": "code",
      "execution_count": null,
      "metadata": {
        "id": "g1qatjjnMM3X"
      },
      "outputs": [],
      "source": [
        "number_of_weeks # 3"
      ]
    },
    {
      "cell_type": "code",
      "source": [
        "number_of_Weeks = 5"
      ],
      "metadata": {
        "id": "nlq4bnsJ9tPD"
      },
      "execution_count": 11,
      "outputs": []
    },
    {
      "cell_type": "code",
      "source": [
        "number_of_Weeks # 5"
      ],
      "metadata": {
        "id": "oEABGI4C-Eth",
        "outputId": "eaeb797f-5bbf-494d-979c-01384ef974b5",
        "colab": {
          "base_uri": "https://localhost:8080/"
        }
      },
      "execution_count": 12,
      "outputs": [
        {
          "output_type": "execute_result",
          "data": {
            "text/plain": [
              "5"
            ]
          },
          "metadata": {},
          "execution_count": 12
        }
      ]
    },
    {
      "cell_type": "markdown",
      "metadata": {
        "id": "1GFFchbIMM3X"
      },
      "source": [
        "UPDATE: we just learned that we can travel for a longer period of time. So, we need to reassign the `number_of_weeks` variable to 5."
      ]
    },
    {
      "cell_type": "markdown",
      "metadata": {
        "id": "d-bts8ZzMM3X"
      },
      "source": [
        "Now that's more like it.\n",
        "\n",
        "Finally, let's create a string that uses both of these variables to tell us how many weeks we will be traveling in our travel month. The string should read `\"I will be traveling 5 weeks starting in the month of January\"`. The process of using one or more variables as placeholders within a larger string is called **string interpolation**.  Interpolate the `num_of_weeks` and `travel_month` to get the correct string.\n",
        "\n",
        "> **Remember:** We can interpolate strings in the following ways:\n",
        "* \"Start of string\" + variable_to_interpolate_1 + \"middle\" + variable_to_interpolate_2 + \"end of string\"\n",
        "* \"Start of string {variable_1} middle {variable_2} end of string\".format(variable_1=variable_to_interpolate, variable_2=variable_to_interpolate)\n",
        "* f\"Start of string {variable_to_interpolate_1} middle {variable_to_interpolate_2} end of string\""
      ]
    },
    {
      "cell_type": "code",
      "execution_count": 8,
      "metadata": {
        "id": "x6VQGFaDMM3X"
      },
      "outputs": [],
      "source": [
        "traveling_schedule = \"I will be traveling 5 weeks in the month of January\""
      ]
    },
    {
      "cell_type": "markdown",
      "metadata": {
        "id": "PbTj4A4WMM3X"
      },
      "source": [
        "### Summary"
      ]
    },
    {
      "cell_type": "markdown",
      "metadata": {
        "id": "72vIr3BMMM3X"
      },
      "source": [
        "Great! In this lab, we were able to get some more practice with storing information in variables through assignment and reassignment."
      ]
    }
  ],
  "metadata": {
    "kernelspec": {
      "display_name": "Python (learn-env)",
      "language": "python",
      "name": "learn-env"
    },
    "language_info": {
      "codemirror_mode": {
        "name": "ipython",
        "version": 3
      },
      "file_extension": ".py",
      "mimetype": "text/x-python",
      "name": "python",
      "nbconvert_exporter": "python",
      "pygments_lexer": "ipython3",
      "version": "3.8.5"
    },
    "colab": {
      "provenance": [],
      "include_colab_link": true
    }
  },
  "nbformat": 4,
  "nbformat_minor": 0
}