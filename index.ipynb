{
  "cells": [
    {
      "cell_type": "markdown",
      "metadata": {
        "id": "view-in-github",
        "colab_type": "text"
      },
      "source": [
        "<a href=\"https://colab.research.google.com/github/sosnes/dsc-running-jupyter-locally-lab/blob/master/index.ipynb\" target=\"_parent\"><img src=\"https://colab.research.google.com/assets/colab-badge.svg\" alt=\"Open In Colab\"/></a>"
      ]
    },
    {
      "cell_type": "markdown",
      "metadata": {
        "id": "TuEITOAqev26"
      },
      "source": [
        "# Implementing Statistics with Functions - Lab\n",
        "\n",
        "## Introduction\n",
        "In this lab you'll dive deep into calculating the measures of central tendency and dispersion introduced in previous lessons. You will code the formulas for these functions in Python which will require you to use the programming skills that you have gained in the other lessons of this section. Let's get started!\n",
        "\n",
        "## Objectives\n",
        "\n",
        "You will be able to:\n",
        "\n",
        "* Calculate the measures of dispersion for a dataset\n",
        "* Compare the different measures of dispersion\n",
        "* Calculate the measures of central tendency for a dataset\n",
        "* Compare the different measures of central tendency\n",
        "\n",
        "## Dataset\n",
        "\n",
        "For this lab, we'll use the [NHIS dataset](http://people.ucsc.edu/~cdobkin/NHIS%202007%20data.csv), which contains weights, heights, and some other attributes for a number of surveyed individuals. The context of this survey is outside the scope this lab, so we'll just go ahead and load the heights column as a list for us to run some simple statistical experiments. We'll use the `pandas` library to import the data into our Python environment. This process will be covered in detail in a later section. For now, we'll do this part for you to give you a head start.  \n",
        "\n",
        "Run the cell below to import the data."
      ]
    },
    {
      "cell_type": "code",
      "execution_count": 12,
      "metadata": {
        "id": "TAx7O0_Vev28"
      },
      "outputs": [],
      "source": [
        "import pandas as pd\n",
        "df = pd.read_csv('nhis.csv')\n",
        "height = list(df['height'])"
      ]
    },
    {
      "cell_type": "markdown",
      "metadata": {
        "id": "g8qr-VVrev29"
      },
      "source": [
        "We are only interested in the height column, so we saved it as a list in the variable `height` in the cell above.\n",
        "\n",
        "In the cells below:\n",
        "\n",
        "* Display the number of items in `height`\n",
        "* Slice and display the first 10 items from `height`"
      ]
    },
    {
      "cell_type": "code",
      "execution_count": 13,
      "metadata": {
        "id": "eEHGCuQoev29",
        "outputId": "f4550a3c-857d-4106-ff53-f61bd59d53d7",
        "colab": {
          "base_uri": "https://localhost:8080/"
        }
      },
      "outputs": [
        {
          "output_type": "execute_result",
          "data": {
            "text/plain": [
              "4785"
            ]
          },
          "metadata": {},
          "execution_count": 13
        }
      ],
      "source": [
        "# Replace None with appropriate code\n",
        "num_records = len(height)\n",
        "\n",
        "num_records # 4785"
      ]
    },
    {
      "cell_type": "code",
      "execution_count": 14,
      "metadata": {
        "scrolled": true,
        "id": "hAP69qz7ev2-",
        "outputId": "b9f6801b-7a4d-48af-ba69-8a9eb2f5306c",
        "colab": {
          "base_uri": "https://localhost:8080/"
        }
      },
      "outputs": [
        {
          "output_type": "execute_result",
          "data": {
            "text/plain": [
              "[74, 70, 61, 68, 66, 98, 99, 70, 65, 64]"
            ]
          },
          "metadata": {},
          "execution_count": 14
        }
      ],
      "source": [
        "# Replace None with appropriate code\n",
        "first_10 = height[:10]\n",
        "\n",
        "first_10 # [74, 70, 61, 68, 66, 98, 99, 70, 65, 64]"
      ]
    },
    {
      "cell_type": "markdown",
      "metadata": {
        "id": "ily-sD3uev2-"
      },
      "source": [
        "So, around 4800 records of height. That's great. Next, we'll try plotting some basic **_histograms_** for these records.\n",
        "\n",
        "## Plotting Histograms\n",
        "\n",
        "We'll begin by importing the `pyplot` module from the library `matplotlib` and setting an alias of `plt` for it (so that we only have to type `plt.` instead of `matplotlib.pyplot.` each time we want to use it).  Note that `plt` is considered the **_standard alias_** for Matplotlib.\n",
        "\n",
        "Run the cell below to import Matplotlib and use it to create a histogram of our `height` data with 8 different bins."
      ]
    },
    {
      "cell_type": "code",
      "execution_count": 15,
      "metadata": {
        "id": "SgrdMEwyev2-"
      },
      "outputs": [],
      "source": [
        "# Run this cell without changes\n",
        "import matplotlib.pyplot as plt\n",
        "%matplotlib inline\n",
        "# ^^This is a 'magic command' built into jupyter notebooks. We use it so that the visualization displays\n",
        "# in the notebook directly, instead of in a separate window."
      ]
    },
    {
      "cell_type": "markdown",
      "metadata": {
        "id": "VPGlRxFYev2-"
      },
      "source": [
        "Next, we'll use Matplotlib to create a histogram by passing in our data, as well as the parameter `bins=8`, into the `hist` function."
      ]
    },
    {
      "cell_type": "code",
      "execution_count": 16,
      "metadata": {
        "id": "5Pc1lAvXev2-",
        "outputId": "073771fb-37cf-46c6-b094-64c848beebf0",
        "colab": {
          "base_uri": "https://localhost:8080/",
          "height": 430
        }
      },
      "outputs": [
        {
          "output_type": "display_data",
          "data": {
            "text/plain": [
              "<Figure size 640x480 with 1 Axes>"
            ],
            "image/png": "[encoded data removed]"
          },
          "metadata": {}
        }
      ],
      "source": [
        "# Run this cell without changes\n",
        "# A histogram should display below\n",
        "plt.hist(height, bins=8);"
      ]
    },
    {
      "cell_type": "markdown",
      "metadata": {
        "id": "P2bL9h6Kev2-"
      },
      "source": [
        "Do you spot anything unusual above? Some outliers, maybe?\n",
        "\n",
        "## Measures of Central Tendency\n",
        "\n",
        "### Calculating the Mean"
      ]
    },
    {
      "cell_type": "markdown",
      "metadata": {
        "id": "LQK4pGcDev2-"
      },
      "source": [
        "We're just beginning to dig into the data stored in `height`. We'll begin by writing a function to calculate the mean of the data.  Recall the formula for calculating mean:\n",
        "\n",
        "$$ \\Large \\bar{x} = \\frac{1}{n} \\sum_{i=1}^{n}x_i $$\n",
        "\n",
        "Using the Python skills you have learned so far, create a function `get_mean()` to perform the following tasks:\n",
        "* Input a list of numbers (like the height list we have above)\n",
        "* Calculate the sum of numbers and length of the list\n",
        "* Calculate mean from above, round off to 2 decimals and return it."
      ]
    },
    {
      "cell_type": "code",
      "execution_count": 17,
      "metadata": {
        "id": "JjWBInncev2-",
        "outputId": "16a83185-d517-4656-f33e-8807619c1fa4",
        "colab": {
          "base_uri": "https://localhost:8080/"
        }
      },
      "outputs": [
        {
          "output_type": "stream",
          "name": "stdout",
          "text": [
            "3.0\n",
            "2.5\n"
          ]
        }
      ],
      "source": [
        "def get_mean(data):\n",
        "    # Replace None with appropriate code\n",
        "    mean = sum(data)/len(data)\n",
        "\n",
        "    return round(mean,2)\n",
        "\n",
        "test1 = [5, 4, 1, 3, 2]\n",
        "test2 = [4, 2, 3, 1]\n",
        "\n",
        "print(get_mean(test1)) # 3.0\n",
        "print(get_mean(test2)) # 2.5"
      ]
    },
    {
      "cell_type": "markdown",
      "metadata": {
        "id": "Ld5_qfzBev2_"
      },
      "source": [
        "Now, we'll test the function by passing in the height list."
      ]
    },
    {
      "cell_type": "code",
      "execution_count": 18,
      "metadata": {
        "id": "9tkIBJqVev2_",
        "outputId": "23d11093-2f54-4716-f0d1-5ce7dbf0c563",
        "colab": {
          "base_uri": "https://localhost:8080/"
        }
      },
      "outputs": [
        {
          "output_type": "stream",
          "name": "stdout",
          "text": [
            "Sample Mean: 69.58\n"
          ]
        }
      ],
      "source": [
        "# Run this cell without changes\n",
        "mean = get_mean(height)\n",
        "\n",
        "print(\"Sample Mean:\", mean) # Sample Mean: 69.58"
      ]
    },
    {
      "cell_type": "markdown",
      "metadata": {
        "id": "7Xt7kTSYev2_"
      },
      "source": [
        "So, we have our mean length, 69.58, and this confirms our observations from the histogram. But we also have some outliers in our data above and we know outliers affect the mean calculation by pulling the mean value in their direction. So, let's remove these outliers and create a new list to see if our mean shifts or stays. We'll use a threshold of 80 inches, i.e. filter out any values greater than 80.\n",
        "\n",
        "Perform following tasks:\n",
        "\n",
        "* Create a function `filter_height_outliers` that takes a list as an argument\n",
        "* Perform a `for` loop to iteratively check and append values to a new list if the value is less than 80, for every element in the original list\n",
        "* Return the new list"
      ]
    },
    {
      "cell_type": "code",
      "execution_count": 19,
      "metadata": {
        "id": "sjyBZypQev2_",
        "outputId": "87c4d436-33ab-4d75-9706-1dd6a11db00d",
        "colab": {
          "base_uri": "https://localhost:8080/"
        }
      },
      "outputs": [
        {
          "output_type": "execute_result",
          "data": {
            "text/plain": [
              "[60, 70]"
            ]
          },
          "metadata": {},
          "execution_count": 19
        }
      ],
      "source": [
        "def filter_height_outliers(data):\n",
        "\n",
        "    filtered_data = []\n",
        "\n",
        "    # Perform filtering here\n",
        "    for height in data:\n",
        "      if height < 80:\n",
        "        filtered_data.append(height)\n",
        "\n",
        "    return filtered_data\n",
        "\n",
        "test = [60, 70, 80, 90]\n",
        "filter_height_outliers(test) # [60, 70]"
      ]
    },
    {
      "cell_type": "markdown",
      "metadata": {
        "id": "Fbz2GZRMev2_"
      },
      "source": [
        "Great, now we can use `filter_height_outliers()` to filter our `height` list and plot a new histogram to see if things change considerably.  "
      ]
    },
    {
      "cell_type": "code",
      "execution_count": 20,
      "metadata": {
        "id": "bvg8VWW7ev2_",
        "outputId": "760ef3b5-8905-40aa-b192-589ad23d0170",
        "colab": {
          "base_uri": "https://localhost:8080/"
        }
      },
      "outputs": [
        {
          "output_type": "execute_result",
          "data": {
            "text/plain": [
              "4347"
            ]
          },
          "metadata": {},
          "execution_count": 20
        }
      ],
      "source": [
        "# Filter the height list using the above function\n",
        "# Replace None with appropriate code\n",
        "filtered_height = filter_height_outliers(height)\n",
        "\n",
        "len(filtered_height) # 4347"
      ]
    },
    {
      "cell_type": "markdown",
      "metadata": {
        "id": "aePfFX3Mev2_"
      },
      "source": [
        "Now that we have filtered the outliers out of our data and reduced the size of the dataset from 4785 to 4347, let's recreate our histogram with 8 bins using our filtered data.\n",
        "\n",
        "**_NOTE_**: You do not need to reimport `matplotlib.pyplot as plt` -- once it's been imported, it's stored in memory and can be accessed whenever we like in other cells."
      ]
    },
    {
      "cell_type": "code",
      "execution_count": 21,
      "metadata": {
        "id": "1mZQtT72ev2_",
        "outputId": "5c1df0b2-6558-433e-e70a-6a11f0142009",
        "colab": {
          "base_uri": "https://localhost:8080/",
          "height": 430
        }
      },
      "outputs": [
        {
          "output_type": "display_data",
          "data": {
            "text/plain": [
              "<Figure size 640x480 with 1 Axes>"
            ],
            "image/png": "[encoded data removed]"
          },
          "metadata": {}
        }
      ],
      "source": [
        "# Replace None with appropriate code\n",
        "# A histogram should display below\n",
        "plt.hist(filtered_height, bins= 8);"
      ]
    },
    {
      "cell_type": "markdown",
      "metadata": {
        "id": "Zxz2bodZev2_"
      },
      "source": [
        "Since we've filtered our data to remove outliers, we should also recalculate the mean.  Do this now in the cell below, using our `get_mean()` function."
      ]
    },
    {
      "cell_type": "code",
      "execution_count": 22,
      "metadata": {
        "id": "4aKUsKFsev2_",
        "outputId": "f31960b4-ee3a-4958-8c62-c0cfce0bfe82",
        "colab": {
          "base_uri": "https://localhost:8080/"
        }
      },
      "outputs": [
        {
          "output_type": "execute_result",
          "data": {
            "text/plain": [
              "66.85"
            ]
          },
          "metadata": {},
          "execution_count": 22
        }
      ],
      "source": [
        "# Replace None with appropriate code\n",
        "new_mean = get_mean(filtered_height)\n",
        "\n",
        "new_mean # 66.85"
      ]
    },
    {
      "cell_type": "markdown",
      "metadata": {
        "id": "1KdhzW9wev2_"
      },
      "source": [
        "Does the mean height of our filtered data match up with what we see in our histogram of our filtered data?\n",
        "\n",
        "Note that in some analytical situations we may not be able to exclude the outliers in such a naive manner. So, let's go ahead and calculate other measures of central tendency as well. We'll start by calculating the median value for our original (unfiltered) height data.\n",
        "\n",
        "### Calculating the Median\n",
        "\n",
        "The median is the value directly in the middle of the dataset. In statistical terms, this is the **_Median Quartile_**. If the dataset was sorted from lowest value to highest value, the median is the value that would be larger than the first 50% of the data, and smaller than the second 50%.\n",
        "\n",
        "If the dataset has an odd number of values, then the median is the middle number.\n",
        "If the dataset has an even number of values, then we take the mean of the middle two numbers.\n",
        "\n",
        "In the cell below, write a function that takes in a list of numbers and returns the median value for that dataset. Make sure you first check for even / odd number of data points and perform the computation accordingly. The best approach to calculate the median is as follows:\n",
        "\n",
        "1. Sort the data\n",
        "2. Check if the data has even or odd number of data points\n",
        "3. Calculate the median of the sorted data now that you know if the count is even or odd.\n",
        "\n",
        "Hints:\n",
        "\n",
        " - You can use the modulo operator `%` in Python to check if a value is even or odd -- odd numbers `% 2` (e.g. `5 % 2`) will equal `1`, while even numbers `% 2` (e.g. `4 % 2`) will equal `0`!\n",
        " - You can use integer division `//` to calculate the index -- for even numbers this just means that the result is an integer (e.g. `4 // 2` is `2` rather than `2.0`), while for odd numbers this means that the remainder is cut off (e.g. `7 // 2` is `3`, not `3.5`)"
      ]
    },
    {
      "cell_type": "code",
      "execution_count": 24,
      "metadata": {
        "id": "y3msvQ9Cev3A",
        "outputId": "5c2baa62-81ee-4400-c9b2-00ae842f3107",
        "colab": {
          "base_uri": "https://localhost:8080/"
        }
      },
      "outputs": [
        {
          "output_type": "stream",
          "name": "stdout",
          "text": [
            "3\n",
            "2.5\n"
          ]
        }
      ],
      "source": [
        "def get_median(data):\n",
        "    # Replace None with appropriate code\n",
        "    data_sorted = sorted(data)\n",
        "\n",
        "    # Your code here\n",
        "    count = len(data_sorted)\n",
        "    # Check for even/odd and perform calculations accordingly - use if-else\n",
        "    if count % 2 == 0:\n",
        " # if count is even, return the average of the middle two numbers\n",
        "     right_index = count // 2\n",
        "     left_index = right_index -1\n",
        "     return(data_sorted[left_index] + data_sorted[right_index]) / 2\n",
        "    else:\n",
        "      # if count is odd, return the middle number\n",
        "      med_index = count // 2\n",
        "      return data_sorted[med_index]\n",
        "\n",
        "test1 = [5, 4, 1, 3, 2]\n",
        "test2 = [4, 2, 3, 1]\n",
        "\n",
        "print(get_median(test1)) # 3\n",
        "print(get_median(test2)) # 2.5"
      ]
    },
    {
      "cell_type": "markdown",
      "metadata": {
        "id": "xx14LMjoev3A"
      },
      "source": [
        "Great, now we can pass in our original `height` list to this function to check the median."
      ]
    },
    {
      "cell_type": "code",
      "execution_count": 25,
      "metadata": {
        "id": "X3pI0UF6ev3A",
        "outputId": "3e2bf0ad-0111-4808-89f3-af697e385511",
        "colab": {
          "base_uri": "https://localhost:8080/"
        }
      },
      "outputs": [
        {
          "output_type": "execute_result",
          "data": {
            "text/plain": [
              "67"
            ]
          },
          "metadata": {},
          "execution_count": 25
        }
      ],
      "source": [
        "# Replace None with appropriate code\n",
        "median = get_median(height)\n",
        "\n",
        "median # 67"
      ]
    },
    {
      "cell_type": "markdown",
      "metadata": {
        "id": "68i6KvVyev3A"
      },
      "source": [
        "So, we have 67, which is much closer to the filtered list mean (66.85) than the mean we calculated with actual list (69.58). So, median in this case seems to be a much better indicator of the central tendency found in the dataset. This makes sense because we've already learned that medians are less sensitive to outliers than mean values are!\n",
        "\n",
        "Next, we'll calculate the mode. This could give us better insight into the typical values in the dataset based on how frequent a value is.  \n",
        "\n",
        "### Calculating the Mode\n",
        "\n",
        "The mode is the value that shows up the most in a dataset. A dataset can have 0 or more modes. If no value shows up more than once, the dataset is considered to have no mode value. If two numbers show up the same number of times, that dataset is considered bimodal. Datasets where multiple values all show up the same number of times are considered multimodal.\n",
        "\n",
        "In the cell below, write a function that takes in a list of numbers and returns another list containing the mode value(s). In the case of only one mode, the list would have a single element.\n",
        "\n",
        "**_Hint_**: Building a **_frequency distribution_** table using dictionaries is probably the easiest way to approach this problem. Use each unique element from the height list as a key, and the frequency of this element as the value and build a dictionary. You can then simply identify the keys (heights) with maximum values."
      ]
    },
    {
      "cell_type": "code",
      "execution_count": 30,
      "metadata": {
        "id": "J3JkJIDmev3A",
        "outputId": "70a2d835-60e8-4991-d596-241970e88b67",
        "colab": {
          "base_uri": "https://localhost:8080/"
        }
      },
      "outputs": [
        {
          "output_type": "stream",
          "name": "stdout",
          "text": [
            "[5]\n",
            "[1, 5]\n"
          ]
        }
      ],
      "source": [
        "# Throughout this cell, replace None with appropriate code\n",
        "\n",
        "def get_mode(data):\n",
        "\n",
        "    # Create and populate frequency distribution\n",
        "    frequency_dict = {}\n",
        "\n",
        "    for height in data:\n",
        "        # If an element is not in the dict, add it to the dict with value 1\n",
        "        # If an element is already in the dict, +1 the value in place\n",
        "        if height not in frequency_dict:\n",
        "          frequency_dict[height] = 1\n",
        "        else:\n",
        "          frequency_dict[height] += 1\n",
        "\n",
        "    # Find the frequency of the mode(s) by finding the largest\n",
        "    # value in frequency_dict\n",
        "    highest_freq = max(frequency_dict.values())\n",
        "\n",
        "    # Create a list for mode values\n",
        "    modes = []\n",
        "\n",
        "    # From the dictionary, add element(s) to the modes list with max frequency\n",
        "    for height, frequency in frequency_dict.items():\n",
        "         if frequency == highest_freq:\n",
        "          modes.append(height)\n",
        "\n",
        "    # Return the mode list\n",
        "    return modes\n",
        "\n",
        "test1 = [1, 2, 3, 5, 5, 4]\n",
        "test2 = [1, 1, 1, 2, 3, 4, 5, 5, 5]\n",
        "\n",
        "print(get_mode(test1)) # [5]\n",
        "print(get_mode(test2)) # [1, 5]"
      ]
    },
    {
      "cell_type": "markdown",
      "metadata": {
        "id": "zj4Szfm6ev3A"
      },
      "source": [
        "That's done. Now you can use the above function to calculate the mode of the original `height` list to compare it with our mean and median values."
      ]
    },
    {
      "cell_type": "code",
      "execution_count": 31,
      "metadata": {
        "scrolled": true,
        "id": "4VGIgyxdev3A",
        "outputId": "f9df1d8a-0e18-491a-d45c-dcb35a4a870d",
        "colab": {
          "base_uri": "https://localhost:8080/"
        }
      },
      "outputs": [
        {
          "output_type": "execute_result",
          "data": {
            "text/plain": [
              "[64]"
            ]
          },
          "metadata": {},
          "execution_count": 31
        }
      ],
      "source": [
        "# Replace None with appropriate code\n",
        "mode = get_mode(height)\n",
        "\n",
        "mode # [64]"
      ]
    },
    {
      "cell_type": "markdown",
      "metadata": {
        "id": "xqyE1CNWev3A"
      },
      "source": [
        "So, the mode value is much lower than our mean and median calculated earlier. What do you make of this? The answer to that could be subjective and depends on the problem. i.e. if your problem is to identify sizes for garments that would sell the most, you cannot disregard mode. However, if you want to get an idea about the general or typical height of individuals, you can probably still do that with the median and the average.\n",
        "\n",
        "To get an even clearer picture, we know we need to see how much the values deviate from the central values we have identified. We have seen variance and standard deviation before as measures of such dispersion. Let's have a go at these to strengthen our understanding of this data.\n",
        "\n",
        "## Measures of Dispersion\n",
        "\n",
        "### Calculating the Variance\n",
        "\n",
        "The formula for variance is:\n",
        "\n",
        "$$ \\Large s^2 = \\frac{1}{n - 1} \\sum_{i=1}^{n}(x_i - \\bar{x})^2 $$\n",
        "\n",
        "Note that this formula is for the **sample** variance. The formula is slightly different than the formula for calculating population variance. Read more about the difference [here](https://www.macroption.com/population-sample-variance-standard-deviation/). In the cell below, write a function that takes a list of numbers as input and returns the variance (rounded to two decimal places) of the sample as output."
      ]
    },
    {
      "cell_type": "code",
      "execution_count": 32,
      "metadata": {
        "id": "NMQW1U5uev3A",
        "outputId": "4cce24bf-04df-4a7c-ad02-2ae0691fef48",
        "colab": {
          "base_uri": "https://localhost:8080/"
        }
      },
      "outputs": [
        {
          "output_type": "stream",
          "name": "stdout",
          "text": [
            "2.67\n",
            "3.33\n",
            "3.25\n"
          ]
        }
      ],
      "source": [
        "# Replace None with appropriate code\n",
        "\n",
        "def get_variance(sample):\n",
        "\n",
        "    # First, calculate the sample mean using get_mean()\n",
        "    sample_mean = get_mean(sample)\n",
        "\n",
        "    sum_of_squares = 0\n",
        "    for height in sample:\n",
        "        # Now, calculate the sum of squares by subtracting the sample mean\n",
        "        # from each height, squaring the result, and adding it to the total\n",
        "        sum_of_squares += (height - sample_mean)**2\n",
        "\n",
        "    # Divide the sum of squares by the number of items in the sample -1 to calculate variance\n",
        "    variance = sum_of_squares / (len(sample)- 1)\n",
        "\n",
        "    return round(variance, 2)\n",
        "\n",
        "test1 = [1, 2, 3, 5, 5, 4]\n",
        "test2 = [1, 1, 1, 2, 3, 4, 5, 5, 5]\n",
        "print(get_variance(test1)) # 2.67\n",
        "print(get_mean(test1)) # 3.33\n",
        "print(get_variance(test2)) # 3.25"
      ]
    },
    {
      "cell_type": "markdown",
      "metadata": {
        "id": "SoRPPcPHev3A"
      },
      "source": [
        "Now we can test the variance of our list `height` with our new `get_variance()` function."
      ]
    },
    {
      "cell_type": "code",
      "execution_count": 33,
      "metadata": {
        "id": "BDeACI8Zev3A",
        "outputId": "27d542fd-6ccb-4ad0-cf1a-bd8999c4e35f",
        "colab": {
          "base_uri": "https://localhost:8080/"
        }
      },
      "outputs": [
        {
          "output_type": "execute_result",
          "data": {
            "text/plain": [
              "87.74"
            ]
          },
          "metadata": {},
          "execution_count": 33
        }
      ],
      "source": [
        "# Replace None with appropriate code\n",
        "variance = get_variance(height)\n",
        "\n",
        "variance # 87.74"
      ]
    },
    {
      "cell_type": "markdown",
      "metadata": {
        "id": "jEpaScmkev3B"
      },
      "source": [
        "So this value, as we learned earlier, tells us a bit about the deviation but not in the units of underlying data. This is because it squares the values of deviations. Standard deviation, however, can deal with this issue as it takes the square roots of differences. So that would probably be a bit more revealing.\n",
        "\n",
        "## Calculating the Standard Deviation\n",
        "\n",
        "In the cell below, write a function that takes a list of numbers as input and returns the standard deviation of that sample as output.\n",
        "\n",
        "Recall that the formula for Standard Deviation is:\n",
        "\n",
        "$$ \\Large s = \\sqrt{\\frac{1}{n-1} \\sum_{i=1}^{n}(x_i - \\bar{x})^2} $$\n",
        "\n",
        "To find the square root of a value in Python, you have two options (**either** approach will work):\n",
        "\n",
        "One option is the `sqrt()` function from `math` library:\n",
        "\n",
        "```python\n",
        "from math import sqrt\n",
        "sqrt(100) # 10.0\n",
        "```\n",
        "\n",
        "Alternatively, another approach would be to raise that number to the power of `0.5`:\n",
        "\n",
        "```python\n",
        "100**0.5 # 10.0\n",
        "```"
      ]
    },
    {
      "cell_type": "code",
      "execution_count": 34,
      "metadata": {
        "id": "h5TLVvCBev3B",
        "outputId": "c01544e8-1b3b-41df-c55a-2160f4677a00",
        "colab": {
          "base_uri": "https://localhost:8080/"
        }
      },
      "outputs": [
        {
          "output_type": "execute_result",
          "data": {
            "text/plain": [
              "84.03"
            ]
          },
          "metadata": {},
          "execution_count": 34
        }
      ],
      "source": [
        "# Replace None with appropriate code\n",
        "from math import sqrt\n",
        "\n",
        "def get_stddev(sample):\n",
        "\n",
        "    stddev = sqrt(get_variance(sample))\n",
        "\n",
        "    return round(stddev, 2)\n",
        "\n",
        "test = [120,112,131,211,312,90]\n",
        "\n",
        "get_stddev(test) # 84.03"
      ]
    },
    {
      "cell_type": "markdown",
      "metadata": {
        "id": "F1YaT4Eoev3B"
      },
      "source": [
        "So now we can finally calculate the standard deviation for our `height` list and inspect the results."
      ]
    },
    {
      "cell_type": "code",
      "execution_count": 35,
      "metadata": {
        "id": "N2XftUJNev3B",
        "outputId": "ef1c9774-6371-48d9-c7a8-51e941794e32",
        "colab": {
          "base_uri": "https://localhost:8080/"
        }
      },
      "outputs": [
        {
          "output_type": "execute_result",
          "data": {
            "text/plain": [
              "9.37"
            ]
          },
          "metadata": {},
          "execution_count": 35
        }
      ],
      "source": [
        "# Replace None with appropriate code\n",
        "standard_deviation = get_stddev(height)\n",
        "\n",
        "standard_deviation # 9.37"
      ]
    },
    {
      "cell_type": "markdown",
      "metadata": {
        "id": "gkVy77Esev3B"
      },
      "source": [
        "So 9.37 inches is the amount of deviation present in our dataset. As we are still including outlier values, this might be slightly affected but these results are now much more reliable.\n",
        "\n",
        "Finally, we will build a boxplot for height data and see if it agrees with our understanding for this data that we have developed up to this point. Use the `matplotlib`'s `boxplot()` function with height data and comment on the output."
      ]
    },
    {
      "cell_type": "code",
      "execution_count": 36,
      "metadata": {
        "id": "NXfOADZYev3K",
        "outputId": "379c22c6-64e9-441b-a2ab-e2d78ea90816",
        "colab": {
          "base_uri": "https://localhost:8080/",
          "height": 430
        }
      },
      "outputs": [
        {
          "output_type": "display_data",
          "data": {
            "text/plain": [
              "<Figure size 640x480 with 1 Axes>"
            ],
            "image/png": "[encoded data removed]"
          },
          "metadata": {}
        }
      ],
      "source": [
        "# Replace None with appropriate code\n",
        "# A boxplot should display below\n",
        "plt.boxplot(height);"
      ]
    },
    {
      "cell_type": "markdown",
      "metadata": {
        "id": "AHpXqmYgev3K"
      },
      "source": [
        "## Simplifying the Process with NumPy\n",
        "\n",
        "We hope writing these functions was a useful experience in terms of deepening your understanding of these statistical measures as well as sharpening your Python skills. However in reality there is almost never a need to write these kinds of functions \"by hand\", since libraries like NumPy and SciPy can typically handle them for us in a single line.\n",
        "\n",
        "Below is a demonstration of the same calculations performed above, written using Python libraries side-by-side with the results of the functions you've just written:"
      ]
    },
    {
      "cell_type": "code",
      "execution_count": 37,
      "metadata": {
        "id": "yV5CmaN2ev3K",
        "outputId": "f4a70460-e760-4b73-c933-d919317a84b8",
        "colab": {
          "base_uri": "https://localhost:8080/"
        }
      },
      "outputs": [
        {
          "output_type": "stream",
          "name": "stdout",
          "text": [
            "Mean:\n",
            "69.58 (our version)\n",
            "69.58 (NumPy version)\n",
            "\n",
            "Median:\n",
            "67 (our version)\n",
            "67.0 (NumPy version)\n",
            "\n",
            "Mode:\n",
            "[64] (our version)\n",
            "[64] (SciPy version)\n",
            "\n",
            "Variance:\n",
            "87.74 (our version)\n",
            "87.74 (NumPy version)\n",
            "\n",
            "Standard Deviation:\n",
            "9.37 (our version)\n",
            "9.37 (NumPy version)\n"
          ]
        }
      ],
      "source": [
        "# Run this cell without changes\n",
        "\n",
        "import numpy as np\n",
        "from scipy import stats\n",
        "\n",
        "print(\"Mean:\")\n",
        "print(mean, \"(our version)\")\n",
        "print(round(np.mean(height), 2), \"(NumPy version)\")\n",
        "print()\n",
        "print(\"Median:\")\n",
        "print(median, \"(our version)\")\n",
        "print(np.median(height), \"(NumPy version)\")\n",
        "print()\n",
        "print(\"Mode:\")\n",
        "print(mode, \"(our version)\")\n",
        "print(stats.mode(height, keepdims=True).mode, \"(SciPy version)\")\n",
        "print()\n",
        "print(\"Variance:\")\n",
        "print(variance, \"(our version)\")\n",
        "print(round(np.var(height, ddof=1), 2), \"(NumPy version)\")\n",
        "print()\n",
        "print(\"Standard Deviation:\")\n",
        "print(standard_deviation, \"(our version)\")\n",
        "print(round(np.std(height, ddof=1), 2), \"(NumPy version)\")"
      ]
    },
    {
      "cell_type": "markdown",
      "metadata": {
        "id": "3DnsZ1ESev3K"
      },
      "source": [
        "## Summary\n",
        "\n",
        "In this lab, we performed a basic, yet detailed, statistical analysis around measuring the tendencies of center and spread for a given dataset. We looked at building a number of functions to calculate different measures and also used some statistical visualizations to strengthen our intuitions around the dataset. We shall see how we can simplify this process as we study `numpy` and `pandas` libraries to ease out the programming load while calculating basic statistics."
      ]
    }
  ],
  "metadata": {
    "kernelspec": {
      "display_name": "Python 3",
      "language": "python",
      "name": "python3"
    },
    "language_info": {
      "codemirror_mode": {
        "name": "ipython",
        "version": 3
      },
      "file_extension": ".py",
      "mimetype": "text/x-python",
      "name": "python",
      "nbconvert_exporter": "python",
      "pygments_lexer": "ipython3",
      "version": "3.8.5"
    },
    "toc": {
      "base_numbering": 1,
      "nav_menu": {},
      "number_sections": true,
      "sideBar": true,
      "skip_h1_title": false,
      "title_cell": "Table of Contents",
      "title_sidebar": "Contents",
      "toc_cell": false,
      "toc_position": {},
      "toc_section_display": true,
      "toc_window_display": false
    },
    "colab": {
      "provenance": [],
      "include_colab_link": true
    }
  },
  "nbformat": 4,
  "nbformat_minor": 0
}