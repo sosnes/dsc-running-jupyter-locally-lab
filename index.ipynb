{
  "cells": [
    {
      "cell_type": "markdown",
      "metadata": {
        "id": "view-in-github",
        "colab_type": "text"
      },
      "source": [
        "<a href=\"https://colab.research.google.com/github/sosnes/dsc-running-jupyter-locally-lab/blob/master/index.ipynb\" target=\"_parent\"><img src=\"https://colab.research.google.com/assets/colab-badge.svg\" alt=\"Open In Colab\"/></a>"
      ]
    },
    {
      "cell_type": "markdown",
      "metadata": {
        "id": "KRP99LRXStC6"
      },
      "source": [
        "# Built-in Python Operators, Functions, and Methods - Lab\n",
        "\n",
        "## Introduction\n",
        "We've looked at some of the built-in methods, functions, and the operators in Python. These are all very powerful tools we can (and will) use in our code. Below, we'll put these new tools to use to solve the tests in this lab.\n",
        "\n",
        "## Objectives\n",
        "\n",
        "In this lab you will:\n",
        "\n",
        "* Use built-in Python functions and methods\n",
        "* Use comparison operators to compare objects\n",
        "* Use logical operators to incorporate multiple conditions\n",
        "* Use identity operators to confirm the identity of an object\n",
        "\n",
        "\n",
        "## Instructions\n",
        "\n",
        "Let's start by using some built-in functions and methods. Employ the appropriate functions and methods to get the intended result."
      ]
    },
    {
      "cell_type": "code",
      "execution_count": 1,
      "metadata": {
        "id": "0CRSFKFMStC8",
        "outputId": "09bb2fb4-5ef4-46e4-c60b-02ccd9e8805c",
        "colab": {
          "base_uri": "https://localhost:8080/",
          "height": 36
        }
      },
      "outputs": [
        {
          "output_type": "execute_result",
          "data": {
            "text/plain": [
              "'HELLO, THERE'"
            ],
            "application/vnd.google.colaboratory.intrinsic+json": {
              "type": "string"
            }
          },
          "metadata": {},
          "execution_count": 1
        }
      ],
      "source": [
        "# Desired output: \"HELLO, THERE\"\n",
        "yell_hello = \"hello, there\".upper()\n",
        "yell_hello"
      ]
    },
    {
      "cell_type": "code",
      "execution_count": 2,
      "metadata": {
        "id": "ZbfPehynStC9",
        "outputId": "4d38111e-d593-4993-bb89-0149e2500051",
        "colab": {
          "base_uri": "https://localhost:8080/",
          "height": 36
        }
      },
      "outputs": [
        {
          "output_type": "execute_result",
          "data": {
            "text/plain": [
              "'psst, hey'"
            ],
            "application/vnd.google.colaboratory.intrinsic+json": {
              "type": "string"
            }
          },
          "metadata": {},
          "execution_count": 2
        }
      ],
      "source": [
        "# Desired output: \"psst, hey\"\n",
        "whisper_hey = \"PSST, HEY\".lower()\n",
        "whisper_hey"
      ]
    },
    {
      "cell_type": "code",
      "execution_count": 3,
      "metadata": {
        "id": "JALXCFDXStC9",
        "outputId": "901a6861-f178-4fc8-a846-2f99e22dfb0f",
        "colab": {
          "base_uri": "https://localhost:8080/",
          "height": 36
        }
      },
      "outputs": [
        {
          "output_type": "execute_result",
          "data": {
            "text/plain": [
              "'Learn. Love. Code.'"
            ],
            "application/vnd.google.colaboratory.intrinsic+json": {
              "type": "string"
            }
          },
          "metadata": {},
          "execution_count": 3
        }
      ],
      "source": [
        "# Desired output: \"Learn. Love. Code\"\n",
        "flatiron_mantra = \"LEARN. LOVE. CODE.\".title()\n",
        "flatiron_mantra"
      ]
    },
    {
      "cell_type": "code",
      "execution_count": 4,
      "metadata": {
        "id": "SZn2nfvPStC9",
        "outputId": "eb39a9b7-2ee9-44fb-f090-52ce3c23188a",
        "colab": {
          "base_uri": "https://localhost:8080/"
        }
      },
      "outputs": [
        {
          "output_type": "execute_result",
          "data": {
            "text/plain": [
              "str"
            ]
          },
          "metadata": {},
          "execution_count": 4
        }
      ],
      "source": [
        "# Desired output: str\n",
        "type_string = type(\"I'm a string\")\n",
        "type_string"
      ]
    },
    {
      "cell_type": "code",
      "execution_count": 5,
      "metadata": {
        "id": "SaAhnk_tStC9",
        "outputId": "b8e57648-8af0-48a0-a397-8e0b7cc6b6da",
        "colab": {
          "base_uri": "https://localhost:8080/"
        }
      },
      "outputs": [
        {
          "output_type": "execute_result",
          "data": {
            "text/plain": [
              "list"
            ]
          },
          "metadata": {},
          "execution_count": 5
        }
      ],
      "source": [
        "# Desired output: list\n",
        "type_list = type([\"i'm\", \"a\", \"list\"])\n",
        "type_list"
      ]
    },
    {
      "cell_type": "code",
      "execution_count": 6,
      "metadata": {
        "id": "EcXEBHkXStC9",
        "outputId": "5ab09f13-9fd7-41c4-fcef-c7ab8925a0e5",
        "colab": {
          "base_uri": "https://localhost:8080/"
        }
      },
      "outputs": [
        {
          "output_type": "execute_result",
          "data": {
            "text/plain": [
              "3"
            ]
          },
          "metadata": {},
          "execution_count": 6
        }
      ],
      "source": [
        "# Desired output: 3\n",
        "length_of_list = len([\"i'm\", \"a\", \"list\"])\n",
        "length_of_list"
      ]
    },
    {
      "cell_type": "code",
      "execution_count": 7,
      "metadata": {
        "id": "wqo5yh5RStC-",
        "outputId": "94c81419-6367-48ee-f6c7-07800974d494",
        "colab": {
          "base_uri": "https://localhost:8080/",
          "height": 36
        }
      },
      "outputs": [
        {
          "output_type": "execute_result",
          "data": {
            "text/plain": [
              "'list'"
            ],
            "application/vnd.google.colaboratory.intrinsic+json": {
              "type": "string"
            }
          },
          "metadata": {},
          "execution_count": 7
        }
      ],
      "source": [
        "# Desired output: \"list\"\n",
        "longest_word_in_list = max([\"i'm\", \"a\", \"list\"], key=len)\n",
        "longest_word_in_list"
      ]
    },
    {
      "cell_type": "code",
      "execution_count": 8,
      "metadata": {
        "id": "s4Z0FSt_StC-",
        "outputId": "fd201766-d8b2-44a3-f5d8-88c32c93a827",
        "colab": {
          "base_uri": "https://localhost:8080/"
        }
      },
      "outputs": [
        {
          "output_type": "execute_result",
          "data": {
            "text/plain": [
              "1"
            ]
          },
          "metadata": {},
          "execution_count": 8
        }
      ],
      "source": [
        "# Desired output: 1\n",
        "smallest_number = min([1, 3, 4, 78])\n",
        "smallest_number"
      ]
    },
    {
      "cell_type": "code",
      "execution_count": 9,
      "metadata": {
        "id": "lLS8g5y1StC-",
        "outputId": "d2eb29c2-e818-43f9-9ae4-6320bcfcceed",
        "colab": {
          "base_uri": "https://localhost:8080/"
        }
      },
      "outputs": [
        {
          "output_type": "execute_result",
          "data": {
            "text/plain": [
              "11"
            ]
          },
          "metadata": {},
          "execution_count": 9
        }
      ],
      "source": [
        "# Desired output: 11\n",
        "sum_of_numbers = sum([1, 2, 3, 5])\n",
        "sum_of_numbers"
      ]
    },
    {
      "cell_type": "markdown",
      "metadata": {
        "id": "3rDaNml4StC-"
      },
      "source": [
        "Uncomment the code in each cell as you start working on them. For example, when you begin working on the first cell, remove `#` at the start of each line.  \n",
        "\n",
        "> **Note:** The `cmd+?` keyboard shortcut comments or uncomments a given line of code!\n",
        "\n",
        "Replace `[COMPARISON]`, with the correct comparison operator to get the desired output, which you will find as a comment at the end of each line. See the example below.\n",
        "\n",
        "```python\n",
        "# boolean_compare = False [COMPARISON] True # True\n",
        "=> boolean_compare = False != True # True\n",
        "OR\n",
        "=> boolean_compare = False != True\n",
        "```\n",
        "\n",
        "Once uncommented, you can check the output to see if your comparisons match the answers provided in the ending comments."
      ]
    },
    {
      "cell_type": "markdown",
      "metadata": {
        "id": "_ughuviiStC-"
      },
      "source": [
        "> **Remember** the comparison operators are: `==`, `!=`, `<`, `>`, `<=`, `>=`"
      ]
    },
    {
      "cell_type": "code",
      "execution_count": 10,
      "metadata": {
        "id": "A2jzgC8ZStC_"
      },
      "outputs": [],
      "source": [
        "# boolean_compare = True [COMPARISON] True # False\n",
        "# boolean_compare2 = False [COMPARISON] True # False\n",
        "# print(boolean_compare, boolean_compare2)"
      ]
    },
    {
      "cell_type": "code",
      "execution_count": 11,
      "metadata": {
        "id": "hwC08HwvStC_"
      },
      "outputs": [],
      "source": [
        "# number_compare = 10 [COMPARISON] 10 # True\n",
        "# number_compare2 = -20 [COMPARISON] 30 # True\n",
        "# number_compare3 = 4 [COMPARISON] 5 # False\n",
        "# print(number_compare, number_compare2, number_compare3)"
      ]
    },
    {
      "cell_type": "code",
      "execution_count": 12,
      "metadata": {
        "id": "pdq69FTqStC_"
      },
      "outputs": [],
      "source": [
        "# string_compare = \"stacy\" [COMPARISON] \"STACY\" # True\n",
        "# string_compare2 = \"hey i love python!\" [COMPARISON] \"hi love python\" # False\n",
        "# string_compare3 = \"this string is bigger than the other\" [COMPARISON] \"that is true\" # True\n",
        "# print(string_compare, string_compare2, string_compare3)"
      ]
    },
    {
      "cell_type": "markdown",
      "metadata": {
        "id": "pHPDiaBSStC_"
      },
      "source": [
        "In the next section, do not use either `==` or `!=` operators"
      ]
    },
    {
      "cell_type": "code",
      "execution_count": 13,
      "metadata": {
        "scrolled": true,
        "id": "XDAdJWPzStC_"
      },
      "outputs": [],
      "source": [
        "# list_compare = [0, 0, 0, 0] [COMPARISON] [0, 0, 0] # True\n",
        "# list_compare2 = [1, 0, 0] [COMPARISON] [0, 0, 0] # True\n",
        "# list_compare3 = [0, 0, 0] [COMPARISON] [0, 0, 3] # False\n",
        "# list_compare4 = [0, 0, 3, 0] [COMPARISON] [0, 0, 3] # True\n",
        "# list_compare5 = [0, 0, 4, 0] [COMPARISON] [0, 0, 3] # False\n",
        "# print(list_compare, list_compare2, list_compare3, list_compare4, list_compare5)"
      ]
    },
    {
      "cell_type": "markdown",
      "metadata": {
        "id": "H-a6A0GpStC_"
      },
      "source": [
        "### Practicing Identity and Logical Operators"
      ]
    },
    {
      "cell_type": "markdown",
      "metadata": {
        "id": "E-7yxMLYStC_"
      },
      "source": [
        "In this next section, use the identity and logical operators to get the desired output as you did in the examples above using the comparison operators."
      ]
    },
    {
      "cell_type": "markdown",
      "metadata": {
        "id": "Gf8Te1qJStC_"
      },
      "source": [
        "> **Remember** the **logical operators** are `and`, `or`, & `not`; and the **identity operators** are `is` & `is not`"
      ]
    },
    {
      "cell_type": "markdown",
      "metadata": {
        "id": "qqV-aOthStC_"
      },
      "source": [
        "Use logical operators for this section"
      ]
    },
    {
      "cell_type": "code",
      "execution_count": null,
      "metadata": {
        "id": "CTN4utLsStC_"
      },
      "outputs": [],
      "source": [
        "# logical_compare = 2 [LOGICAL] [] # []\n",
        "# logical_compare2 = [LOGICAL] [] # True\n",
        "# logical_compare3 = 0 [LOGICAL] [] # 0\n",
        "# logical_compare4 = True [LOGICAL] 2 # 2\n",
        "# logical_compare5 = 2 [LOGICAL] 3 # 2\n",
        "# logical_compare6 = [LOGICAL] True # False\n",
        "# logical_compare7 = False [LOGICAL] 2 # False\n",
        "# print(logical_compare, logical_compare2, logical_compare3, logical_compare4,\n",
        "#       logical_compare5, logical_compare6, logical_compare7)"
      ]
    },
    {
      "cell_type": "code",
      "source": [
        "#logical_compare = 2 [LOGICAL] [] # []"
      ],
      "metadata": {
        "id": "_Jvw-j4H0IET"
      },
      "execution_count": 14,
      "outputs": []
    },
    {
      "cell_type": "code",
      "source": [
        "#logical_compare2 = [LOGICAL] [] # True"
      ],
      "metadata": {
        "id": "U6y0fRrB0hRf"
      },
      "execution_count": 16,
      "outputs": []
    },
    {
      "cell_type": "markdown",
      "metadata": {
        "id": "s_SyolnCStDA"
      },
      "source": [
        "Use identity operators for this section"
      ]
    },
    {
      "cell_type": "code",
      "execution_count": 17,
      "metadata": {
        "id": "fKsvJvsDStDA"
      },
      "outputs": [],
      "source": [
        "# a = []\n",
        "# b = a\n",
        "# identity_compare = {} [IDENTITY] {} # False\n",
        "# identity_compare2 = a [IDENTITY] b # True\n",
        "# identity_compare3 = b [IDENTITY] [] # True\n",
        "# identity_compare4 = 9 [IDENTITY] 10 # True\n",
        "# identity_compare5 = \"Same\" [IDENTITY] \"Same\" # False\n",
        "# identity_compare6 = [1,3,4] [IDENTITY] [1,2,3] # False\n",
        "# print(identity_compare, identity_compare2, identity_compare3,\n",
        "#       identity_compare4, identity_compare5, identity_compare6)"
      ]
    },
    {
      "cell_type": "markdown",
      "metadata": {
        "id": "LB0jL1kOStDA"
      },
      "source": [
        "## Summary\n",
        "Great work! After all that, there's nothing we can't compare. Well, I guess apples and oranges might still be off the table. We practiced using comparison, logical, and identity operators in Python to compare elements of the same and different datatypes and/or values. Going forward, there will be plenty of instances where we will need to compare elements. So, it is important to have a good understanding of how each of these operators works. Don't worry, as with all concepts in programming, the more we work with something the better we understand it."
      ]
    }
  ],
  "metadata": {
    "kernelspec": {
      "display_name": "Python (learn-env)",
      "language": "python",
      "name": "learn-env"
    },
    "language_info": {
      "codemirror_mode": {
        "name": "ipython",
        "version": 3
      },
      "file_extension": ".py",
      "mimetype": "text/x-python",
      "name": "python",
      "nbconvert_exporter": "python",
      "pygments_lexer": "ipython3",
      "version": "3.8.5"
    },
    "toc": {
      "base_numbering": 1,
      "nav_menu": {},
      "number_sections": true,
      "sideBar": true,
      "skip_h1_title": false,
      "title_cell": "Table of Contents",
      "title_sidebar": "Contents",
      "toc_cell": false,
      "toc_position": {},
      "toc_section_display": true,
      "toc_window_display": false
    },
    "colab": {
      "provenance": [],
      "include_colab_link": true
    }
  },
  "nbformat": 4,
  "nbformat_minor": 0
}