{
  "cells": [
    {
      "cell_type": "markdown",
      "metadata": {
        "id": "view-in-github",
        "colab_type": "text"
      },
      "source": [
        "<a href=\"https://colab.research.google.com/github/sosnes/dsc-running-jupyter-locally-lab/blob/master/index.ipynb\" target=\"_parent\"><img src=\"https://colab.research.google.com/assets/colab-badge.svg\" alt=\"Open In Colab\"/></a>"
      ]
    },
    {
      "cell_type": "markdown",
      "metadata": {
        "id": "se-w7osFZDc1"
      },
      "source": [
        "# Creating Functions - Lab"
      ]
    },
    {
      "cell_type": "markdown",
      "metadata": {
        "id": "_qz9MPXKZDc2"
      },
      "source": [
        "## Introduction\n",
        "\n",
        "As you know, we can use functions to name snippets of our code, thus making our code more expressive. We can also use functions to allow us to reuse our code. In this lab we will practice using functions for both of those purposes."
      ]
    },
    {
      "cell_type": "markdown",
      "metadata": {
        "id": "jbYWjnD3ZDc3"
      },
      "source": [
        "## Objectives\n",
        "\n",
        "You will be able to:\n",
        "\n",
        "* Declare and use a basic function"
      ]
    },
    {
      "cell_type": "markdown",
      "metadata": {
        "id": "tKkUYycPZDc3"
      },
      "source": [
        "## Instructions:\n",
        "### Writing our first functions"
      ]
    },
    {
      "cell_type": "markdown",
      "metadata": {
        "id": "RZmYYbP9ZDc3"
      },
      "source": [
        "Imagine we are creating a list of travel destinations -- which can really turn out to be a full time job if we like to travel. We have our list of `travel_destinations` which we assign below. Write a function called `number_of_destinations()` that returns the number of destinations we have on our list."
      ]
    },
    {
      "cell_type": "code",
      "execution_count": 1,
      "metadata": {
        "id": "i_OhFwJDZDc3"
      },
      "outputs": [],
      "source": [
        "travel_destinations = ['argentina', 'mexico', 'italy', 'finland', 'canada', 'croatia']\n",
        "# define function here\n",
        "def number_of_destinations():\n",
        "  return len(travel_destinations)"
      ]
    },
    {
      "cell_type": "markdown",
      "metadata": {
        "id": "N3FzrQ5pZDc4"
      },
      "source": [
        "> Below, remove the first `#` to uncomment the following line(s) of code and then press `shift` + `enter` to run the cell"
      ]
    },
    {
      "cell_type": "code",
      "execution_count": 2,
      "metadata": {
        "id": "C4HZpNmKZDc4",
        "outputId": "068b9757-7ba7-4d91-9a02-30052fe00fb5",
        "colab": {
          "base_uri": "https://localhost:8080/"
        }
      },
      "outputs": [
        {
          "output_type": "execute_result",
          "data": {
            "text/plain": [
              "6"
            ]
          },
          "metadata": {},
          "execution_count": 2
        }
      ],
      "source": [
        "# number_of_destinations() # Expected output: 6\n",
        "number_of_destinations()"
      ]
    },
    {
      "cell_type": "markdown",
      "metadata": {
        "id": "V4m-7kdrZDc4"
      },
      "source": [
        "Now write another function called `next_up()` that returns our first destination (the destination with the lowest index), in the `list_of_destinations` list."
      ]
    },
    {
      "cell_type": "code",
      "execution_count": 3,
      "metadata": {
        "id": "yG9QzYUEZDc4"
      },
      "outputs": [],
      "source": [
        "# define function here\n",
        "def next_up():\n",
        "  return list_of_destinations[0]"
      ]
    },
    {
      "cell_type": "markdown",
      "metadata": {
        "id": "XTuhl7EYZDc4"
      },
      "source": [
        "Next, run your new function"
      ]
    },
    {
      "cell_type": "code",
      "execution_count": 4,
      "metadata": {
        "id": "vPZcgbBcZDc4",
        "outputId": "fed6ab58-3b7f-42a2-f46a-608312903246",
        "colab": {
          "base_uri": "https://localhost:8080/",
          "height": 36
        }
      },
      "outputs": [
        {
          "output_type": "execute_result",
          "data": {
            "text/plain": [
              "'argentina'"
            ],
            "application/vnd.google.colaboratory.intrinsic+json": {
              "type": "string"
            }
          },
          "metadata": {},
          "execution_count": 4
        }
      ],
      "source": [
        "list_of_destinations = ['argentina', 'canada', 'croatia']\n",
        "# Your code here\n",
        "next_up()\n",
        "# Expected output:'argentina'"
      ]
    },
    {
      "cell_type": "markdown",
      "metadata": {
        "id": "9c3EMoGQZDc4"
      },
      "source": [
        "Ok, now write a function called `favorite_destination()` that returns the string `'madagascar'`."
      ]
    },
    {
      "cell_type": "code",
      "execution_count": 5,
      "metadata": {
        "id": "XcBtycOPZDc5"
      },
      "outputs": [],
      "source": [
        "# define function here\n",
        "def favorite_destination():\n",
        "  return \"madagascar\""
      ]
    },
    {
      "cell_type": "markdown",
      "metadata": {
        "id": "7tTpKoSfZDc5"
      },
      "source": [
        "Next, run your new function"
      ]
    },
    {
      "cell_type": "code",
      "execution_count": 6,
      "metadata": {
        "id": "x2ceuGhrZDc5",
        "outputId": "94acb7f3-dab0-4f37-ae0a-cf4748cdd91a",
        "colab": {
          "base_uri": "https://localhost:8080/",
          "height": 36
        }
      },
      "outputs": [
        {
          "output_type": "execute_result",
          "data": {
            "text/plain": [
              "'madagascar'"
            ],
            "application/vnd.google.colaboratory.intrinsic+json": {
              "type": "string"
            }
          },
          "metadata": {},
          "execution_count": 6
        }
      ],
      "source": [
        "# Your code here\n",
        "favorite_destination()\n",
        "# Expected output:'madagascar'"
      ]
    },
    {
      "cell_type": "markdown",
      "metadata": {
        "id": "0BRwFNI3ZDc5"
      },
      "source": [
        "Again, let's declare a list called `favorite_destinations`. Write a new function called `add_favorite_destination()` that adds the string `'madagascar'` to the end of `favorite_destinations` and also returns the string `'madagascar'`."
      ]
    },
    {
      "cell_type": "code",
      "execution_count": 11,
      "metadata": {
        "id": "na3CzS4JZDc5"
      },
      "outputs": [],
      "source": [
        "# define function here\n",
        "def add_favorite_destination():\n",
        "  favorite_destinations.append(favorite_destination())\n",
        "  return favorite_destinations()"
      ]
    },
    {
      "cell_type": "markdown",
      "metadata": {
        "id": "DtAIYfeDZDc5"
      },
      "source": [
        "Next, run your new function"
      ]
    },
    {
      "cell_type": "code",
      "execution_count": 18,
      "metadata": {
        "id": "byjDAnNLZDc5",
        "outputId": "a76f7b06-7d8f-42e0-826a-d672208b1e70",
        "colab": {
          "base_uri": "https://localhost:8080/",
          "height": 36
        }
      },
      "outputs": [
        {
          "output_type": "execute_result",
          "data": {
            "text/plain": [
              "'croatia'"
            ],
            "application/vnd.google.colaboratory.intrinsic+json": {
              "type": "string"
            }
          },
          "metadata": {},
          "execution_count": 18
        }
      ],
      "source": [
        "favorite_destinations = ['argentina', 'mexico', 'italy', 'finland', 'canada', 'croatia']\n",
        "\n",
        "# Your code here\n",
        "favorite_destinations[-1] # 'croatia'"
      ]
    },
    {
      "cell_type": "markdown",
      "metadata": {
        "id": "MKsBjrkEZDc5"
      },
      "source": [
        "Now let's write another function called `capitalize_countries()` which iterates through the list of `capitalized_destinations` and capitalizes the first letter of each word. It should return a list of capitalized destinations."
      ]
    },
    {
      "cell_type": "code",
      "execution_count": 19,
      "metadata": {
        "id": "t6AZEnf1ZDc5"
      },
      "outputs": [],
      "source": [
        "capitalized_destinations = ['argentina', 'mexico', 'italy', 'finland', 'canada', 'croatia']\n",
        "# define function here\n",
        "def capitalize_countries():\n",
        "  new_list = []\n",
        "  for country in capitalized_destinations:\n",
        "    new_list.append(country.capitalize())\n",
        "  return new_list"
      ]
    },
    {
      "cell_type": "markdown",
      "metadata": {
        "id": "M0lwX24fZDc5"
      },
      "source": [
        "Next, run your new function"
      ]
    },
    {
      "cell_type": "code",
      "execution_count": 21,
      "metadata": {
        "id": "SaG9jdGtZDc5",
        "outputId": "35e18b8c-3d0b-4a6a-ae7a-8a44bdab7829",
        "colab": {
          "base_uri": "https://localhost:8080/"
        }
      },
      "outputs": [
        {
          "output_type": "execute_result",
          "data": {
            "text/plain": [
              "['Argentina', 'Mexico', 'Italy', 'Finland', 'Canada', 'Croatia']"
            ]
          },
          "metadata": {},
          "execution_count": 21
        }
      ],
      "source": [
        "# Your code here # ['Argentina', 'Mexico', 'Italy', 'Finland', 'Canada', 'Croatia']\n",
        "capitalize_countries()"
      ]
    },
    {
      "cell_type": "markdown",
      "metadata": {
        "id": "ELcvdyP4ZDc6"
      },
      "source": [
        "Great! Now if someone adds a country that is lowercased to our list of destinations, we can simply call our function again to capitalize each of the destinations in the list."
      ]
    },
    {
      "cell_type": "markdown",
      "metadata": {
        "id": "2ZnckNN7ZDc6"
      },
      "source": [
        "## Summary"
      ]
    },
    {
      "cell_type": "markdown",
      "metadata": {
        "id": "IEQ9gjE-ZDc6"
      },
      "source": [
        "Great job! In this lab we were able to get practice both creating and returning values from functions."
      ]
    }
  ],
  "metadata": {
    "kernelspec": {
      "display_name": "Python (learn-env)",
      "language": "python",
      "name": "learn-env"
    },
    "language_info": {
      "codemirror_mode": {
        "name": "ipython",
        "version": 3
      },
      "file_extension": ".py",
      "mimetype": "text/x-python",
      "name": "python",
      "nbconvert_exporter": "python",
      "pygments_lexer": "ipython3",
      "version": "3.8.5"
    },
    "toc": {
      "base_numbering": 1,
      "nav_menu": {},
      "number_sections": true,
      "sideBar": true,
      "skip_h1_title": false,
      "title_cell": "Table of Contents",
      "title_sidebar": "Contents",
      "toc_cell": false,
      "toc_position": {},
      "toc_section_display": true,
      "toc_window_display": false
    },
    "colab": {
      "provenance": [],
      "include_colab_link": true
    }
  },
  "nbformat": 4,
  "nbformat_minor": 0
}