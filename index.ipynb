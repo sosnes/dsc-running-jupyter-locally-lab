{
  "cells": [
    {
      "cell_type": "markdown",
      "metadata": {
        "id": "view-in-github",
        "colab_type": "text"
      },
      "source": [
        "<a href=\"https://colab.research.google.com/github/sosnes/dsc-running-jupyter-locally-lab/blob/master/index.ipynb\" target=\"_parent\"><img src=\"https://colab.research.google.com/assets/colab-badge.svg\" alt=\"Open In Colab\"/></a>"
      ]
    },
    {
      "cell_type": "markdown",
      "metadata": {
        "id": "L4XcGDbsbL3y"
      },
      "source": [
        "# Python Loops and Functions - Cumulative Lab\n",
        "\n",
        "## Introduction\n",
        "\n",
        "You made it through another section — excellent work! This cumulative lab will return to the Amazon product review dataset and allow you to flex your new skills.\n",
        "\n",
        "## Objectives\n",
        "\n",
        "You will be able to:\n",
        "\n",
        " - Recall what you learned in the previous section\n",
        " - Practice writing loops to pull multiple pieces of data from a dataset\n",
        " - Practice writing functions for organization and avoiding repetition\n",
        "\n",
        "## Your Task: Dynamically Query Amazon Review Data\n",
        "\n",
        "Once again, we are going to be working with data collected by Computer Science researchers at the University of California, San Diego. Their full paper citation is here:\n",
        "> **Justifying recommendations using distantly-labeled reviews and fined-grained aspects**\n",
        "Jianmo Ni, Jiacheng Li, Julian McAuley\n",
        "Empirical Methods in Natural Language Processing (EMNLP), 2019\n",
        "[pdf](http://cseweb.ucsd.edu/~jmcauley/pdfs/emnlp19a.pdf)\n",
        "\n",
        "We are still using a cleaned-up, coffee-specific, sample version of their [full dataset](https://nijianmo.github.io/amazon/index.html).\n",
        "\n",
        "![pouring coffee](https://curriculum-content.s3.amazonaws.com/data-science/images/coffee.jpg)\n",
        "<span>Photo by <a href=\"https://unsplash.com/@dumdidu?utm_source=unsplash&amp;utm_medium=referral&amp;utm_content=creditCopyText\">Philipp Cordts</a> on <a href=\"https://unsplash.com/s/photos/coffee-pot?utm_source=unsplash&amp;utm_medium=referral&amp;utm_content=creditCopyText\">Unsplash</a></span>\n",
        "\n",
        "In some cases, we will write the function signature for you, e.g.\n",
        "\n",
        "```python\n",
        "def review_sentiment(review):\n",
        "    # Replace None with appropriate code\n",
        "    None\n",
        "```\n",
        "\n",
        "Then you just need to fill in the relevant logic.\n",
        "\n",
        "In other cases, you will need to write the function signature yourself, e.g.\n",
        "\n",
        "```python\n",
        "# Your code here\n",
        "```\n",
        "\n",
        "### Requirements\n",
        "\n",
        "#### 1. Data Summary\n",
        "While reusing some code from the previous cumulative lab, write code to loop over all of the records in the dataset to summarize its contents, specifically in terms of overall review sentiment and the years when the reviews were written.\n",
        "\n",
        "#### 2. Subset Sample\n",
        "Provide a sample of records that meet particular criteria.\n",
        "\n",
        "#### 3. Individual Review Summary\n",
        "Refactor the code from the previous cumulative lab so that it is contained in a function and prompts the user to select which review to summarize.\n",
        "\n",
        "## Data Summary\n",
        "\n",
        "Once again, we've opened up the dataset and loaded it into a list of dictionaries called `reviews`."
      ]
    },
    {
      "cell_type": "code",
      "execution_count": 102,
      "metadata": {
        "id": "2sq-SjQmbL30",
        "outputId": "c7e5cc38-1ea5-41a7-ebc8-b3eefb2159b4",
        "colab": {
          "base_uri": "https://localhost:8080/"
        }
      },
      "outputs": [
        {
          "output_type": "execute_result",
          "data": {
            "text/plain": [
              "list"
            ]
          },
          "metadata": {},
          "execution_count": 102
        }
      ],
      "source": [
        "# Run this cell without changes\n",
        "import json\n",
        "with open(\"coffee_product_reviews.json\") as f:\n",
        "    reviews = json.load(f)\n",
        "type(reviews)"
      ]
    },
    {
      "cell_type": "markdown",
      "metadata": {
        "id": "QGSDw9RibL31"
      },
      "source": [
        "Previously, we found the length of the collection, and looked into the data types of each record's keys and values"
      ]
    },
    {
      "cell_type": "code",
      "execution_count": 103,
      "metadata": {
        "id": "RLNVkwPjbL31",
        "outputId": "639bc423-9ee2-4cf0-ca6e-fc0281952fde",
        "colab": {
          "base_uri": "https://localhost:8080/"
        }
      },
      "outputs": [
        {
          "output_type": "stream",
          "name": "stdout",
          "text": [
            "The coffee product review dataset contains 86 reviews\n"
          ]
        },
        {
          "output_type": "execute_result",
          "data": {
            "text/plain": [
              "{'rating': 5.0,\n",
              " 'reviewer_name': 'Sns073194',\n",
              " 'product_id': 'B00004RFRV',\n",
              " 'review_title': 'Perfect cafsito every time',\n",
              " 'review_time': '03 11, 2018',\n",
              " 'images': ['https://images-na.ssl-images-amazon.com/images/I/71d2cQEgJsL._SY88.jpg'],\n",
              " 'styles': {'Size:': ' 6-Cup', 'Color:': ' Silver'}}"
            ]
          },
          "metadata": {},
          "execution_count": 103
        }
      ],
      "source": [
        "# Run this cell without changes\n",
        "num_reviews = len(reviews)\n",
        "print(\"The coffee product review dataset contains {} reviews\".format(num_reviews))\n",
        "\n",
        "first_review = reviews[0]\n",
        "first_review"
      ]
    },
    {
      "cell_type": "code",
      "execution_count": 104,
      "metadata": {
        "id": "bvDSfjOobL31",
        "outputId": "eebb6f17-2e24-475c-b15d-b277340af205",
        "colab": {
          "base_uri": "https://localhost:8080/"
        }
      },
      "outputs": [
        {
          "output_type": "execute_result",
          "data": {
            "text/plain": [
              "dict_keys(['rating', 'reviewer_name', 'product_id', 'review_title', 'review_time', 'images', 'styles'])"
            ]
          },
          "metadata": {},
          "execution_count": 104
        }
      ],
      "source": [
        "# Run this cell without changes\n",
        "first_review.keys()"
      ]
    },
    {
      "cell_type": "code",
      "execution_count": 105,
      "metadata": {
        "id": "3DZ6rQ2rbL31",
        "outputId": "7ba92c0a-f74b-40c1-a074-97eb199fbab3",
        "colab": {
          "base_uri": "https://localhost:8080/"
        }
      },
      "outputs": [
        {
          "output_type": "execute_result",
          "data": {
            "text/plain": [
              "dict_values([5.0, 'Sns073194', 'B00004RFRV', 'Perfect cafsito every time', '03 11, 2018', ['https://images-na.ssl-images-amazon.com/images/I/71d2cQEgJsL._SY88.jpg'], {'Size:': ' 6-Cup', 'Color:': ' Silver'}])"
            ]
          },
          "metadata": {},
          "execution_count": 105
        }
      ],
      "source": [
        "# Run this cell without changes\n",
        "first_review.values()"
      ]
    },
    {
      "cell_type": "markdown",
      "metadata": {
        "id": "GWjE6KdmbL31"
      },
      "source": [
        "This time, let's do something a bit more sophisticated. Specifically:\n",
        "\n",
        "1. Count of positive, negative, and neutral reviews\n",
        "2. List of years contained in the dataset\n",
        "\n",
        "### Count of Positive, Negative, and Neutral Reviews\n",
        "\n",
        "Previously, we wrote something like this code to determine whether a specific review was positive, negative, or neutral:"
      ]
    },
    {
      "cell_type": "code",
      "execution_count": 106,
      "metadata": {
        "id": "KQIRppCAbL32",
        "outputId": "1d3ff031-1ed4-4836-9092-711b394802aa",
        "colab": {
          "base_uri": "https://localhost:8080/"
        }
      },
      "outputs": [
        {
          "output_type": "stream",
          "name": "stdout",
          "text": [
            "This is a positive review\n"
          ]
        }
      ],
      "source": [
        "# Run this cell without changes\n",
        "selected_review = reviews[2]\n",
        "selected_rating = selected_review[\"rating\"]\n",
        "\n",
        "if selected_rating >= 4:\n",
        "    print(\"This is a positive review\")\n",
        "elif selected_rating <= 2:\n",
        "    print(\"This is a negative review\")\n",
        "else:\n",
        "    print(\"This is a neutral review\")"
      ]
    },
    {
      "cell_type": "markdown",
      "metadata": {
        "id": "0nQ7_hbYbL32"
      },
      "source": [
        "Now, rewrite that code as a function `review_sentiment`, which takes in a review dictionary as an argument, and returns the string `\"positive\"`, `\"negative\"`, or `\"neutral\"`"
      ]
    },
    {
      "cell_type": "code",
      "execution_count": 107,
      "metadata": {
        "id": "iUtDqec1bL32",
        "outputId": "7a584637-1430-4bec-8ea5-e74fc059ccc1",
        "colab": {
          "base_uri": "https://localhost:8080/",
          "height": 36
        }
      },
      "outputs": [
        {
          "output_type": "execute_result",
          "data": {
            "text/plain": [
              "'positive'"
            ],
            "application/vnd.google.colaboratory.intrinsic+json": {
              "type": "string"
            }
          },
          "metadata": {},
          "execution_count": 107
        }
      ],
      "source": [
        "def review_sentiment(review):\n",
        "    # Replace None with appropriate code\n",
        "     rating = review[\"rating\"]\n",
        "\n",
        "     if rating >= 4:\n",
        "      return \"positive\"\n",
        "     elif rating <= 2:\n",
        "      return \"negative\"\n",
        "     else:\n",
        "      return \"neutral\"\n",
        "review_sentiment(reviews[2])\n"
      ]
    },
    {
      "cell_type": "code",
      "execution_count": 108,
      "metadata": {
        "id": "thlWnSnCbL32",
        "outputId": "283b146d-3087-4676-ee35-3ea85708e87a",
        "colab": {
          "base_uri": "https://localhost:8080/",
          "height": 36
        }
      },
      "outputs": [
        {
          "output_type": "execute_result",
          "data": {
            "text/plain": [
              "'positive'"
            ],
            "application/vnd.google.colaboratory.intrinsic+json": {
              "type": "string"
            }
          },
          "metadata": {},
          "execution_count": 108
        }
      ],
      "source": [
        "# Run this cell without changes\n",
        "review_sentiment(reviews[2]) # 'positive'"
      ]
    },
    {
      "cell_type": "code",
      "execution_count": 109,
      "metadata": {
        "id": "SuIIPQUubL32",
        "outputId": "da4da04a-bfef-454a-aead-7c0f4b9f167d",
        "colab": {
          "base_uri": "https://localhost:8080/",
          "height": 36
        }
      },
      "outputs": [
        {
          "output_type": "execute_result",
          "data": {
            "text/plain": [
              "'negative'"
            ],
            "application/vnd.google.colaboratory.intrinsic+json": {
              "type": "string"
            }
          },
          "metadata": {},
          "execution_count": 109
        }
      ],
      "source": [
        "# Run this cell without changes\n",
        "review_sentiment(reviews[4]) # 'negative'"
      ]
    },
    {
      "cell_type": "code",
      "execution_count": 110,
      "metadata": {
        "id": "AkkqAzABbL32",
        "outputId": "49adcd19-3dc1-40da-ee74-a8b73423faf4",
        "colab": {
          "base_uri": "https://localhost:8080/",
          "height": 36
        }
      },
      "outputs": [
        {
          "output_type": "execute_result",
          "data": {
            "text/plain": [
              "'neutral'"
            ],
            "application/vnd.google.colaboratory.intrinsic+json": {
              "type": "string"
            }
          },
          "metadata": {},
          "execution_count": 110
        }
      ],
      "source": [
        "# Run this cell without changes\n",
        "review_sentiment(reviews[47]) # 'neutral'"
      ]
    },
    {
      "cell_type": "markdown",
      "metadata": {
        "id": "nB3X1SpnbL32"
      },
      "source": [
        "Ok, this is already much cleaner than copying and pasting that `if`/`elif`/`else` sequence like we did before!\n",
        "\n",
        "Now, write a function to loop over all of the reviews in the list, and count how many are positive, negative, and neutral.\n",
        "\n",
        "The function should be called `get_sentiment_counts`, take one argument (the list of reviews), and return a dictionary containing the counts. A counter dictionary has been initialized for you with `\"positive\"`, `\"negative\"`, and `\"neutral\"` as the keys and values starting at 0."
      ]
    },
    {
      "cell_type": "code",
      "execution_count": 111,
      "metadata": {
        "id": "XJp_MxBRbL32",
        "outputId": "c6fb819f-5b51-4d89-c7c9-ccfaf7b5da76",
        "colab": {
          "base_uri": "https://localhost:8080/"
        }
      },
      "outputs": [
        {
          "output_type": "execute_result",
          "data": {
            "text/plain": [
              "{'positive': 67, 'negative': 15, 'neutral': 4}"
            ]
          },
          "metadata": {},
          "execution_count": 111
        }
      ],
      "source": [
        "def get_sentiment_counts(review_list):\n",
        "\n",
        "    sentiment_counts = {\n",
        "        \"positive\": 0,\n",
        "        \"negative\": 0,\n",
        "        \"neutral\": 0\n",
        "    }\n",
        "\n",
        "    # Your code here\n",
        "    for review in review_list:\n",
        "      sentiment = review_sentiment(review)\n",
        "      sentiment_counts[sentiment] += 1\n",
        "\n",
        "    return sentiment_counts\n",
        "\n",
        "get_sentiment_counts(reviews) # {'positive': 67, 'negative': 15, 'neutral': 4}"
      ]
    },
    {
      "cell_type": "markdown",
      "metadata": {
        "id": "hj1fYPZAbL33"
      },
      "source": [
        "This spread of sentiments seems reasonable. There is a well-known [skew towards positive reviews in general](https://dspace.mit.edu/handle/1721.1/111093), similar to \"grade inflation\", and people with neutral opinions are less likely to write reviews in the first place.\n",
        "\n",
        "### List of Years Contained in the Dataset\n",
        "\n",
        "Previously, we wrote something like this code to extract the year of a review from the review dictionary:"
      ]
    },
    {
      "cell_type": "code",
      "execution_count": 112,
      "metadata": {
        "id": "pIsf5UMLbL33",
        "outputId": "739e3652-6449-44a9-cc61-5ba7771d5f56",
        "colab": {
          "base_uri": "https://localhost:8080/"
        }
      },
      "outputs": [
        {
          "output_type": "execute_result",
          "data": {
            "text/plain": [
              "2017"
            ]
          },
          "metadata": {},
          "execution_count": 112
        }
      ],
      "source": [
        "# Run this cell without changes\n",
        "selected_review = reviews[2]\n",
        "selected_review_time = selected_review[\"review_time\"]\n",
        "selected_review_year = int(selected_review_time[-4:])\n",
        "selected_review_year"
      ]
    },
    {
      "cell_type": "markdown",
      "metadata": {
        "id": "nnCM97ScbL33"
      },
      "source": [
        "Now, rewrite that code as a function `review_year`, which takes in a review dictionary as an argument, and returns the year as an integer:"
      ]
    },
    {
      "cell_type": "code",
      "execution_count": 113,
      "metadata": {
        "id": "NnYcTI33bL33"
      },
      "outputs": [],
      "source": [
        "def review_year(review):\n",
        "    # Replace None with appropriate code\n",
        "    review_time = review[\"review_time\"]\n",
        "    return int(review_time[-4:])"
      ]
    },
    {
      "cell_type": "code",
      "execution_count": 114,
      "metadata": {
        "id": "eIWPofxqbL33",
        "outputId": "51e3e5ad-2c10-4ceb-f1a5-5d9dd7b385e1",
        "colab": {
          "base_uri": "https://localhost:8080/"
        }
      },
      "outputs": [
        {
          "output_type": "execute_result",
          "data": {
            "text/plain": [
              "2017"
            ]
          },
          "metadata": {},
          "execution_count": 114
        }
      ],
      "source": [
        "# Run this cell without changes\n",
        "review_year(reviews[2]) # 2017"
      ]
    },
    {
      "cell_type": "code",
      "execution_count": 115,
      "metadata": {
        "id": "6OqsFvMcbL33",
        "outputId": "d5a75bda-d9e5-4d8b-f591-75dce262dfd8",
        "colab": {
          "base_uri": "https://localhost:8080/"
        }
      },
      "outputs": [
        {
          "output_type": "execute_result",
          "data": {
            "text/plain": [
              "2017"
            ]
          },
          "metadata": {},
          "execution_count": 115
        }
      ],
      "source": [
        "# Run this cell without changes\n",
        "review_year(reviews[4]) # 2017"
      ]
    },
    {
      "cell_type": "code",
      "execution_count": 116,
      "metadata": {
        "id": "zTHFXLvsbL33",
        "outputId": "49903a35-f048-40e7-8ad3-12c982cbda1d",
        "colab": {
          "base_uri": "https://localhost:8080/"
        }
      },
      "outputs": [
        {
          "output_type": "execute_result",
          "data": {
            "text/plain": [
              "2015"
            ]
          },
          "metadata": {},
          "execution_count": 116
        }
      ],
      "source": [
        "\n",
        "# Run this cell without changes\n",
        "review_year(reviews[47]) # 2015"
      ]
    },
    {
      "cell_type": "markdown",
      "metadata": {
        "id": "Wb9I3iVfbL33"
      },
      "source": [
        "Now, write a function called `get_years` to loop over all of the reviews in the review list and create a list of the years you find. Each year should only appear once, in ascending order. The function should accept one argument (`review_list`) and should return a list of integers representing the years.\n",
        "\n",
        "Hints:\n",
        "\n",
        " - Remember that you can use the `set()` function to keep only the unique elements in a list. Just make sure you use `list()` afterwards to convert it back to a list data type. This is not the only solution, however!\n",
        " - There is a list method named `.sort()` ([look it up in the python list documentation here](https://docs.python.org/3/tutorial/datastructures.html#more-on-lists)) that will automatically order the years; you don't need to write sorting logic \"by hand\""
      ]
    },
    {
      "cell_type": "code",
      "execution_count": 117,
      "metadata": {
        "id": "9MHKax1JbL33",
        "outputId": "44e61d07-270a-419b-a969-738213cba996",
        "colab": {
          "base_uri": "https://localhost:8080/"
        }
      },
      "outputs": [
        {
          "output_type": "stream",
          "name": "stdout",
          "text": [
            "[2007, 2008, 2009, 2011, 2012, 2013, 2014, 2015, 2016, 2017, 2018]\n",
            "<class 'list'>\n"
          ]
        }
      ],
      "source": [
        "# Your code here\n",
        "def get_years(review_list):\n",
        "  # option without set()\n",
        "  years = []\n",
        "  for review in review_list:\n",
        "    year = review_year(review)\n",
        "    if year not in years:\n",
        "      years.append(year)\n",
        "  years.sort()\n",
        "  return years\n",
        "\n",
        "print(get_years(reviews)) # [2007, 2008, 2009, 2011, 2012, 2013, 2014, 2015, 2016, 2017, 2018]\n",
        "print(type(get_years(reviews))) # <class 'list'>"
      ]
    },
    {
      "cell_type": "markdown",
      "metadata": {
        "id": "TmXmYKrwbL33"
      },
      "source": [
        "Now we know that we have data spanning 2007-2018, with no data from 2010. In some contexts that absence might be worth investigating — is it a random artifact of our sample, or are we missing 2010 data for a reason that matters? For now we'll just keep moving on to the next section, now that we have a clearer sense of the kinds of reviews in our dataset and the years they were written.\n",
        "\n",
        "## Subset Sampling\n",
        "\n",
        "Once you have an overall sense of a dataset, it's a good idea to ask *what are some examples of records in each category?* For example, what are some examples of a negative review?\n",
        "\n",
        "Although 86 records are few enough that you could technically read through all of them and just mentally note what we see, let's use an approach that will scale better to larger datasets with more categories: **filtering** to a subset of records then **sampling** to achieve a digestible amount of information.\n",
        "\n",
        "### Filtering\n",
        "\n",
        "Here we are going to make use of another built-in Python function: `filter()` ([docs here](https://docs.python.org/3/library/functions.html#filter)). To use this function, we first need to write a helper function that returns `True` or `False` based on the value passed in.\n",
        "\n",
        "So, create a function `is_negative` that takes in a review dictionary as an argument and returns `True` if the review is negative, `False` otherwise:"
      ]
    },
    {
      "cell_type": "code",
      "execution_count": 118,
      "metadata": {
        "id": "h5azgUvWbL33",
        "outputId": "10c79fc6-7dfd-4cc0-a22a-3b12f3bc6672",
        "colab": {
          "base_uri": "https://localhost:8080/"
        }
      },
      "outputs": [
        {
          "output_type": "stream",
          "name": "stdout",
          "text": [
            "False\n",
            "True\n",
            "False\n"
          ]
        }
      ],
      "source": [
        "def is_negative(review):\n",
        "    # Replace None with appropriate code\n",
        "    sentiment = review_sentiment(review)\n",
        "    return sentiment == \"negative\"\n",
        "\n",
        "print(is_negative(reviews[2]))  # False (postive review)\n",
        "print(is_negative(reviews[4]))  # True\n",
        "print(is_negative(reviews[47])) # False (neutral review)"
      ]
    },
    {
      "cell_type": "markdown",
      "metadata": {
        "id": "gMynvDF-bL33"
      },
      "source": [
        "Now we can use the `filter()` function to create a list of negative reviews:"
      ]
    },
    {
      "cell_type": "code",
      "execution_count": 119,
      "metadata": {
        "id": "Z7yTQaeCbL34",
        "outputId": "0c08401e-069d-4d07-f21b-a02cd5899a02",
        "colab": {
          "base_uri": "https://localhost:8080/"
        }
      },
      "outputs": [
        {
          "output_type": "execute_result",
          "data": {
            "text/plain": [
              "[{'rating': 1.0,\n",
              "  'reviewer_name': 'EJ',\n",
              "  'product_id': 'B00004RFRV',\n",
              "  'review_title': 'Rusted spots everywhere fresh out the box...nasty',\n",
              "  'review_time': '06 4, 2017',\n",
              "  'images': ['https://images-na.ssl-images-amazon.com/images/I/71Dbr6X0bYL._SY88.jpg'],\n",
              "  'styles': {'Size:': ' 9-Cup', 'Color:': ' Silver'}},\n",
              " {'rating': 1.0,\n",
              "  'reviewer_name': 'mathman54',\n",
              "  'product_id': 'B00004RFRV',\n",
              "  'review_title': \"The bottom looks like it has rusted and I don't know how to ...\",\n",
              "  'review_time': '02 15, 2016',\n",
              "  'images': ['https://images-na.ssl-images-amazon.com/images/I/71qt4Hnra8L._SY88.jpg',\n",
              "   'https://images-na.ssl-images-amazon.com/images/I/71Wkg8MesdL._SY88.jpg'],\n",
              "  'styles': {'Size:': ' 12-Cup', 'Color:': ' Silver'}},\n",
              " {'rating': 1.0,\n",
              "  'reviewer_name': 'Maria Fernandez',\n",
              "  'product_id': 'B00004RFRV',\n",
              "  'review_title': 'Is it a Bialetti? Came dirty with coffee grounds.',\n",
              "  'review_time': '03 22, 2015',\n",
              "  'images': ['https://images-na.ssl-images-amazon.com/images/I/71aPg3ZuCzL._SY88.jpg',\n",
              "   'https://images-na.ssl-images-amazon.com/images/I/71-2keZacOL._SY88.jpg',\n",
              "   'https://images-na.ssl-images-amazon.com/images/I/71Z4C4G-0dL._SY88.jpg'],\n",
              "  'styles': {'Size:': ' 6-Cup', 'Color:': ' Silver'}},\n",
              " {'rating': 1.0,\n",
              "  'reviewer_name': 'Toni Bautista',\n",
              "  'product_id': 'B00005IBX9',\n",
              "  'review_title': 'Great but NOT PERFECT -missing Side water panel',\n",
              "  'review_time': '02 24, 2017',\n",
              "  'images': ['https://images-na.ssl-images-amazon.com/images/I/71X5NEjZG5L._SY88.jpg'],\n",
              "  'styles': {'Color:': ' Brushed Chrome'}},\n",
              " {'rating': 1.0,\n",
              "  'reviewer_name': 'SAinVA',\n",
              "  'product_id': 'B00005LM0T',\n",
              "  'review_title': 'Too much waste',\n",
              "  'review_time': '09 7, 2017',\n",
              "  'images': ['https://images-na.ssl-images-amazon.com/images/I/71shZggLRHL._SY88.jpg'],\n",
              "  'styles': {'Size:': ' 34 oz.', 'Package Type:': ' Standard Packaging'}},\n",
              " {'rating': 1.0,\n",
              "  'reviewer_name': 'Silicon Valley',\n",
              "  'product_id': 'B00005LM0T',\n",
              "  'review_title': 'FRAME RUSTS WITHIN A FEW WEEKS',\n",
              "  'review_time': '03 10, 2016',\n",
              "  'images': ['https://images-na.ssl-images-amazon.com/images/I/71FREAeBLIL._SY88.jpg',\n",
              "   'https://images-na.ssl-images-amazon.com/images/I/71qkhDjseuL._SY88.jpg',\n",
              "   'https://images-na.ssl-images-amazon.com/images/I/7143mVMMoCL._SY88.jpg'],\n",
              "  'styles': {'Size:': ' 34 oz.', 'Package Type:': ' Standard Packaging'}},\n",
              " {'rating': 1.0,\n",
              "  'reviewer_name': 'Andrew Furlong',\n",
              "  'product_id': 'B00005MF9C',\n",
              "  'review_title': 'but instead ran along the underside of the part of the maker that holds the grounds and finally dropping at an angle at which a',\n",
              "  'review_time': '02 22, 2017',\n",
              "  'images': ['https://images-na.ssl-images-amazon.com/images/I/71kh1XatynL._SY88.jpg'],\n",
              "  'styles': {'Color:': ' Black/Stainless Steel'}},\n",
              " {'rating': 2.0,\n",
              "  'reviewer_name': 'fred o.',\n",
              "  'product_id': 'B00005MF9C',\n",
              "  'review_title': 'Good purchase',\n",
              "  'review_time': '09 4, 2016',\n",
              "  'images': ['https://images-na.ssl-images-amazon.com/images/I/71tRehtvN+L._SY88.jpg',\n",
              "   'https://images-na.ssl-images-amazon.com/images/I/719K20U+MaL._SY88.jpg',\n",
              "   'https://images-na.ssl-images-amazon.com/images/I/71jd6yc1GdL._SY88.jpg'],\n",
              "  'styles': {'Color:': ' Black/White'}},\n",
              " {'rating': 1.0,\n",
              "  'reviewer_name': 'fifrox',\n",
              "  'product_id': 'B00005MF9C',\n",
              "  'review_title': 'Works great for a week then fails!',\n",
              "  'review_time': '03 10, 2016',\n",
              "  'images': ['https://images-na.ssl-images-amazon.com/images/I/81QVkUT4hdL._SY88.jpg'],\n",
              "  'styles': {'Color:': ' Black/Stainless Steel'}},\n",
              " {'rating': 1.0,\n",
              "  'reviewer_name': 'cas',\n",
              "  'product_id': 'B00005NCWQ',\n",
              "  'review_title': 'Garbage!!!',\n",
              "  'review_time': '03 26, 2018',\n",
              "  'images': ['https://images-na.ssl-images-amazon.com/images/I/71Bxydi3DQL._SY88.jpg'],\n",
              "  'styles': {'Size:': ' 8-Cup'}},\n",
              " {'rating': 1.0,\n",
              "  'reviewer_name': 'GoClick',\n",
              "  'product_id': 'B00005OTXM',\n",
              "  'review_title': 'Returned - produced revolting burnt plastic flavored coffee, and seemed flawed.',\n",
              "  'review_time': '04 16, 2015',\n",
              "  'images': ['https://images-na.ssl-images-amazon.com/images/I/71o+7Zru+iL._SY88.jpg',\n",
              "   'https://images-na.ssl-images-amazon.com/images/I/81sbfP4tc8L._SY88.jpg',\n",
              "   'https://images-na.ssl-images-amazon.com/images/I/71vhOebyGaL._SY88.jpg'],\n",
              "  'styles': {'Style Name:': ' COFFEE MAKER ONLY'}},\n",
              " {'rating': 2.0,\n",
              "  'reviewer_name': 'Picks n Pans',\n",
              "  'product_id': 'B00006F2LW',\n",
              "  'review_title': 'Cracked lid out of the box',\n",
              "  'review_time': '02 27, 2008',\n",
              "  'images': ['https://images-na.ssl-images-amazon.com/images/I/317fvUiuNDL._SY88.jpg'],\n",
              "  'styles': {'Color:': ' Black'}},\n",
              " {'rating': 2.0,\n",
              "  'reviewer_name': 'LMM',\n",
              "  'product_id': 'B00008ELEA',\n",
              "  'review_title': 'smelled like the cord was burning',\n",
              "  'review_time': '06 6, 2016',\n",
              "  'images': ['https://images-na.ssl-images-amazon.com/images/I/51xXENQhIGL._SY88.jpg'],\n",
              "  'styles': {'Size:': ' 4-Cup'}},\n",
              " {'rating': 1.0,\n",
              "  'reviewer_name': 'Marcia S.',\n",
              "  'product_id': 'B0000A1ZMS',\n",
              "  'review_title': 'Look what happened to this once great Cuisinart coffeemaker.',\n",
              "  'review_time': '11 12, 2016',\n",
              "  'images': ['https://images-na.ssl-images-amazon.com/images/I/51B8eue4nHL._SY88.jpg',\n",
              "   'https://images-na.ssl-images-amazon.com/images/I/519NziREFIL._SY88.jpg',\n",
              "   'https://images-na.ssl-images-amazon.com/images/I/51v+A1zWqTL._SY88.jpg'],\n",
              "  'styles': {'Color:': ' Black', 'Style Name:': ' Coffeemaker'}},\n",
              " {'rating': 2.0,\n",
              "  'reviewer_name': 'Jimmie',\n",
              "  'product_id': 'B0000A1ZMS',\n",
              "  'review_title': 'Leaks and more',\n",
              "  'review_time': '01 13, 2011',\n",
              "  'images': ['https://images-na.ssl-images-amazon.com/images/I/51U4K+PzETL._SY88.jpg'],\n",
              "  'styles': {'Color:': ' Black', 'Style Name:': ' Coffeemaker'}}]"
            ]
          },
          "metadata": {},
          "execution_count": 119
        }
      ],
      "source": [
        "# Run this cell without changes\n",
        "list(filter(is_negative, reviews))"
      ]
    },
    {
      "cell_type": "markdown",
      "metadata": {
        "id": "QH4FGPzsbL34"
      },
      "source": [
        "Write a function called `get_negative_reviews` that returns a list of these reviews. It should take the list of all reviews as an argument.\n",
        "\n",
        "(This can be a one-line function.)"
      ]
    },
    {
      "cell_type": "code",
      "execution_count": 120,
      "metadata": {
        "id": "IyTZktBWbL34",
        "outputId": "ab53265e-2f94-4743-eb4d-531059e89ee9",
        "colab": {
          "base_uri": "https://localhost:8080/"
        }
      },
      "outputs": [
        {
          "output_type": "execute_result",
          "data": {
            "text/plain": [
              "15"
            ]
          },
          "metadata": {},
          "execution_count": 120
        }
      ],
      "source": [
        "# Your code here\n",
        "def get_negative_reviews(review_list):\n",
        "    return list(filter(is_negative, review_list))\n",
        "\n",
        "\n",
        "len(get_negative_reviews(reviews)) # 15"
      ]
    },
    {
      "cell_type": "markdown",
      "metadata": {
        "id": "0_xuuOYNbL34"
      },
      "source": [
        "### Sampling\n",
        "\n",
        "Again, since we have a relatively small dataset, we could just look at all 15 reviews. But let's take a more scalable approach instead, and take a random sample of negative reviews.\n",
        "\n",
        "Recall the `random` module, which must be imported:"
      ]
    },
    {
      "cell_type": "code",
      "execution_count": 121,
      "metadata": {
        "id": "_VOMToLpbL34"
      },
      "outputs": [],
      "source": [
        "# Run this cell without changes\n",
        "import random"
      ]
    },
    {
      "cell_type": "markdown",
      "metadata": {
        "id": "QH_83cVVbL34"
      },
      "source": [
        "We'll use the `random.sample()` function, which takes in a collection and a number, and returns that number of elements from the collection.\n",
        "\n",
        "So, for example, if we want 3 negative reviews:"
      ]
    },
    {
      "cell_type": "code",
      "execution_count": 122,
      "metadata": {
        "id": "qKRuFQtubL34",
        "outputId": "0326234d-03e4-4c09-b600-5fc3eec3d37d",
        "colab": {
          "base_uri": "https://localhost:8080/"
        }
      },
      "outputs": [
        {
          "output_type": "execute_result",
          "data": {
            "text/plain": [
              "[{'rating': 1.0,\n",
              "  'reviewer_name': 'mathman54',\n",
              "  'product_id': 'B00004RFRV',\n",
              "  'review_title': \"The bottom looks like it has rusted and I don't know how to ...\",\n",
              "  'review_time': '02 15, 2016',\n",
              "  'images': ['https://images-na.ssl-images-amazon.com/images/I/71qt4Hnra8L._SY88.jpg',\n",
              "   'https://images-na.ssl-images-amazon.com/images/I/71Wkg8MesdL._SY88.jpg'],\n",
              "  'styles': {'Size:': ' 12-Cup', 'Color:': ' Silver'}},\n",
              " {'rating': 2.0,\n",
              "  'reviewer_name': 'LMM',\n",
              "  'product_id': 'B00008ELEA',\n",
              "  'review_title': 'smelled like the cord was burning',\n",
              "  'review_time': '06 6, 2016',\n",
              "  'images': ['https://images-na.ssl-images-amazon.com/images/I/51xXENQhIGL._SY88.jpg'],\n",
              "  'styles': {'Size:': ' 4-Cup'}},\n",
              " {'rating': 1.0,\n",
              "  'reviewer_name': 'Andrew Furlong',\n",
              "  'product_id': 'B00005MF9C',\n",
              "  'review_title': 'but instead ran along the underside of the part of the maker that holds the grounds and finally dropping at an angle at which a',\n",
              "  'review_time': '02 22, 2017',\n",
              "  'images': ['https://images-na.ssl-images-amazon.com/images/I/71kh1XatynL._SY88.jpg'],\n",
              "  'styles': {'Color:': ' Black/Stainless Steel'}}]"
            ]
          },
          "metadata": {},
          "execution_count": 122
        }
      ],
      "source": [
        "# Run this cell without changes\n",
        "# You can run as many times as you want, to see different sample examples\n",
        "random.sample(get_negative_reviews(reviews), 3)"
      ]
    },
    {
      "cell_type": "markdown",
      "metadata": {
        "id": "9nZ0giAHbL34"
      },
      "source": [
        "Now, put that code into a function `get_negative_review_sample`. This function should take a list of reviews and the number of samples to select, and should return a sample of negative reviews.\n",
        "\n",
        "(You can assume that `num_samples` is a valid number. The number of samples must be less than or equal to the number of elements in the collection.)"
      ]
    },
    {
      "cell_type": "code",
      "execution_count": 123,
      "metadata": {
        "id": "-m4mgwe4bL34",
        "outputId": "1739897a-7779-43b2-bc11-5fde655b363a",
        "colab": {
          "base_uri": "https://localhost:8080/"
        }
      },
      "outputs": [
        {
          "output_type": "execute_result",
          "data": {
            "text/plain": [
              "[{'rating': 1.0,\n",
              "  'reviewer_name': 'Silicon Valley',\n",
              "  'product_id': 'B00005LM0T',\n",
              "  'review_title': 'FRAME RUSTS WITHIN A FEW WEEKS',\n",
              "  'review_time': '03 10, 2016',\n",
              "  'images': ['https://images-na.ssl-images-amazon.com/images/I/71FREAeBLIL._SY88.jpg',\n",
              "   'https://images-na.ssl-images-amazon.com/images/I/71qkhDjseuL._SY88.jpg',\n",
              "   'https://images-na.ssl-images-amazon.com/images/I/7143mVMMoCL._SY88.jpg'],\n",
              "  'styles': {'Size:': ' 34 oz.', 'Package Type:': ' Standard Packaging'}},\n",
              " {'rating': 2.0,\n",
              "  'reviewer_name': 'Picks n Pans',\n",
              "  'product_id': 'B00006F2LW',\n",
              "  'review_title': 'Cracked lid out of the box',\n",
              "  'review_time': '02 27, 2008',\n",
              "  'images': ['https://images-na.ssl-images-amazon.com/images/I/317fvUiuNDL._SY88.jpg'],\n",
              "  'styles': {'Color:': ' Black'}},\n",
              " {'rating': 1.0,\n",
              "  'reviewer_name': 'Maria Fernandez',\n",
              "  'product_id': 'B00004RFRV',\n",
              "  'review_title': 'Is it a Bialetti? Came dirty with coffee grounds.',\n",
              "  'review_time': '03 22, 2015',\n",
              "  'images': ['https://images-na.ssl-images-amazon.com/images/I/71aPg3ZuCzL._SY88.jpg',\n",
              "   'https://images-na.ssl-images-amazon.com/images/I/71-2keZacOL._SY88.jpg',\n",
              "   'https://images-na.ssl-images-amazon.com/images/I/71Z4C4G-0dL._SY88.jpg'],\n",
              "  'styles': {'Size:': ' 6-Cup', 'Color:': ' Silver'}},\n",
              " {'rating': 1.0,\n",
              "  'reviewer_name': 'GoClick',\n",
              "  'product_id': 'B00005OTXM',\n",
              "  'review_title': 'Returned - produced revolting burnt plastic flavored coffee, and seemed flawed.',\n",
              "  'review_time': '04 16, 2015',\n",
              "  'images': ['https://images-na.ssl-images-amazon.com/images/I/71o+7Zru+iL._SY88.jpg',\n",
              "   'https://images-na.ssl-images-amazon.com/images/I/81sbfP4tc8L._SY88.jpg',\n",
              "   'https://images-na.ssl-images-amazon.com/images/I/71vhOebyGaL._SY88.jpg'],\n",
              "  'styles': {'Style Name:': ' COFFEE MAKER ONLY'}}]"
            ]
          },
          "metadata": {},
          "execution_count": 123
        }
      ],
      "source": [
        "def get_negative_review_sample(review_list, num_samples):\n",
        "    # Replace None with appropriate code\n",
        "    return random.sample(get_negative_reviews(review_list), num_samples)\n",
        "\n",
        "get_negative_review_sample(reviews, 4)"
      ]
    },
    {
      "cell_type": "markdown",
      "metadata": {
        "id": "jY-1XO6ZbL34"
      },
      "source": [
        "Repeat the same process for positive reviews. That means we need:\n",
        "\n",
        "1. A helper function `is_positive` (this can't just be `not is_negative` since neutral reviews are neither)\n",
        "2. A function `get_positive_reviews` which returns a list of all positive reviews\n",
        "3. A function `get_positive_review_sample` which returns a sample of positive reviews with the specified length"
      ]
    },
    {
      "cell_type": "code",
      "execution_count": 124,
      "metadata": {
        "id": "vr7SJaTNbL34",
        "outputId": "e79f220e-d4a0-48bd-f430-aae24a349834",
        "colab": {
          "base_uri": "https://localhost:8080/"
        }
      },
      "outputs": [
        {
          "output_type": "execute_result",
          "data": {
            "text/plain": [
              "[{'rating': 5.0,\n",
              "  'reviewer_name': 'stampmom9 Dawn Gallop',\n",
              "  'product_id': 'B00004SPD9',\n",
              "  'review_title': 'Wonderful coffee grinder!',\n",
              "  'review_time': '03 3, 2016',\n",
              "  'images': ['https://images-na.ssl-images-amazon.com/images/I/71YBeh+J1rL._SY88.jpg'],\n",
              "  'styles': {'Color:': ' Walnut'}},\n",
              " {'rating': 5.0,\n",
              "  'reviewer_name': 'Julie Freeman',\n",
              "  'product_id': 'B0000CCQKV',\n",
              "  'review_title': 'Awesome product...great price!',\n",
              "  'review_time': '08 17, 2016',\n",
              "  'images': ['https://images-na.ssl-images-amazon.com/images/I/613WVFu8KDL._SY88.jpg'],\n",
              "  'styles': {'Size:': ' 2 Bundlers'}},\n",
              " {'rating': 5.0,\n",
              "  'reviewer_name': 'B. Laska',\n",
              "  'product_id': 'B00004RFRV',\n",
              "  'review_title': 'Love my Moka pots!',\n",
              "  'review_time': '07 9, 2015',\n",
              "  'images': ['https://images-na.ssl-images-amazon.com/images/I/719NCqw4GML._SY88.jpg'],\n",
              "  'styles': {'Size:': ' 1-Cup', 'Color:': ' Silver'}},\n",
              " {'rating': 5.0,\n",
              "  'reviewer_name': 'Karen',\n",
              "  'product_id': 'B00004RFRV',\n",
              "  'review_title': 'Bialetti is the Best!',\n",
              "  'review_time': '11 12, 2017',\n",
              "  'images': ['https://images-na.ssl-images-amazon.com/images/I/81+XxFRGyBL._SY88.jpg'],\n",
              "  'styles': {'Size:': ' 12-Cup', 'Color:': ' Silver'}}]"
            ]
          },
          "metadata": {},
          "execution_count": 124
        }
      ],
      "source": [
        "# Your code here\n",
        "def is_positive(review):\n",
        "  sentiment = review_sentiment(review)\n",
        "  return sentiment == \"positive\"\n",
        "def get_positive_reviews(review_list):\n",
        "  return list(filter(is_positive, review_list))\n",
        "def get_positive_review_sample(review_list, num_samples):\n",
        "  return random.sample(get_positive_reviews(review_list), num_samples)\n",
        "get_positive_review_sample(reviews, 4)"
      ]
    },
    {
      "cell_type": "markdown",
      "metadata": {
        "id": "JJWDoWkYbL34"
      },
      "source": [
        "## Individual Review Summary\n",
        "\n",
        "In addition to summarizing the dataset overall and sampling based on criteria, we want the user to be able to query any given record in order to view a summary. Before, we created a variable called `review_index` that the user could modify. Now, let's write some reusable code that doesn't require the user to write any Python at all!\n",
        "\n",
        "Recall that before, our final code looked something like this:"
      ]
    },
    {
      "cell_type": "code",
      "execution_count": 125,
      "metadata": {
        "id": "ugcH0MG3bL34",
        "outputId": "f7514785-a1db-4cf1-b7ae-6c5552a2b9db",
        "colab": {
          "base_uri": "https://localhost:8080/"
        }
      },
      "outputs": [
        {
          "output_type": "stream",
          "name": "stdout",
          "text": [
            "\"Bialetti is the Best!\": This was a positive review written by Karen in 2017.\n"
          ]
        }
      ],
      "source": [
        "# Run this cell without changes\n",
        "\n",
        "review_index = 2\n",
        "\n",
        "# Extract review from list of reviews\n",
        "selected_review = reviews[review_index]\n",
        "\n",
        "# Extract title\n",
        "selected_review_title = selected_review[\"review_title\"]\n",
        "\n",
        "# Extract rating and format as positive, negative, or neutral\n",
        "selected_rating = selected_review[\"rating\"]\n",
        "if selected_rating >= 4:\n",
        "    selected_sentiment = \"positive\"\n",
        "elif selected_rating <= 2:\n",
        "    selected_sentiment = \"negative\"\n",
        "else:\n",
        "    selected_sentiment = \"neutral\"\n",
        "\n",
        "# Extract author\n",
        "selected_author = selected_review[\"reviewer_name\"]\n",
        "\n",
        "# Extract year (doesn't need to be int for this use case)\n",
        "selected_year = selected_review[\"review_time\"][-4:]\n",
        "\n",
        "print(f'\"{selected_review_title}\": This was a {selected_sentiment} review written by {selected_author} in {selected_year}.')"
      ]
    },
    {
      "cell_type": "markdown",
      "metadata": {
        "id": "--PcWE6UbL35"
      },
      "source": [
        "Rewrite that code as a function called `get_review_summary`, which takes a review dictionary as an argument, and returns a string that resembles the previous summary string, e.g.\n",
        "\n",
        "```\n",
        "\"Bialetti is the Best!\": This was a positive review written by Karen in 2017.\n",
        "```\n",
        "\n",
        "*Hint: look back at the functions you have previously written to see which ones might be useful to call within this function!*"
      ]
    },
    {
      "cell_type": "code",
      "execution_count": 126,
      "metadata": {
        "id": "s_rvySJ4bL35",
        "outputId": "f4dd0e71-92bb-491e-b156-6aa1ef174e5f",
        "colab": {
          "base_uri": "https://localhost:8080/"
        }
      },
      "outputs": [
        {
          "output_type": "stream",
          "name": "stdout",
          "text": [
            "\"Bialetti is the Best!\": This was a positive review written by Karen in 2017.\n"
          ]
        }
      ],
      "source": [
        "# Your code here\n",
        "def get_review_summary(review):\n",
        "  title = review[\"review_title\"]\n",
        "  sentiment = review_sentiment(review)\n",
        "  author = review[\"reviewer_name\"]\n",
        "  year = review_year(review)\n",
        "  return (f'\"{title}\": This was a {sentiment} review written by {author} in {year}.')\n",
        "print(get_review_summary(reviews[2])) # \"Bialetti is the Best!\": This was a positive review written by Karen in 2017."
      ]
    },
    {
      "cell_type": "markdown",
      "metadata": {
        "id": "qGKA2Fo8bL35"
      },
      "source": [
        "Now, instead of copying and pasting that every time, we can just call it repeatedly!\n",
        "\n",
        "Write a function that prompts the user to enter a review index, then prints the relevant review summary. The function should be called `review_summary_prompt`, it should take a list of reviews as an argument, and should print information but not return anything.\n",
        "\n",
        "Display the message `\"Please enter a review index: \"` when prompting for input. You can assume that the user will enter a valid index between 0 and 85.\n",
        "\n",
        "Hints:\n",
        "\n",
        " - Use the built-in `input()` function ([check the documentation here to see how to use it!](https://docs.python.org/3/library/functions.html#input))\n",
        " - Remember that this function always returns a string, so you will have to convert the user-supplied index into an integer, otherwise you'll get the error `TypeError: list indices must be integers or slices, not str`\n",
        " - If you're wondering about the type of a given variable, you can use the built-in `type()` function"
      ]
    },
    {
      "cell_type": "code",
      "execution_count": 127,
      "metadata": {
        "id": "pddvarNSbL35"
      },
      "outputs": [],
      "source": [
        "def review_summary_prompt(list_of_reviews):\n",
        "    # Replace None with appropriate code\n",
        "    user_input = input(\"please enter a review index: \")\n",
        "    index = int(user_input)\n",
        "    review = list_of_reviews[index]\n",
        "    print(get_review_summary(review))"
      ]
    },
    {
      "cell_type": "markdown",
      "metadata": {
        "id": "QHooffLObL35"
      },
      "source": [
        "Run this cell, and try entering 2, 4, 52 (examples of positive, negative, neutral reviews)\n",
        "\n",
        "You can also try any index you want, between 0 and 85!"
      ]
    },
    {
      "cell_type": "code",
      "execution_count": 128,
      "metadata": {
        "id": "9g74CafpbL35",
        "outputId": "5de5ccd3-8e28-4c71-dcca-091d3e6054db",
        "colab": {
          "base_uri": "https://localhost:8080/",
          "height": 304
        }
      },
      "outputs": [
        {
          "output_type": "error",
          "ename": "KeyboardInterrupt",
          "evalue": "Interrupted by user",
          "traceback": [
            "\u001b[0;31m---------------------------------------------------------------------------\u001b[0m",
            "\u001b[0;31mKeyboardInterrupt\u001b[0m                         Traceback (most recent call last)",
            "\u001b[0;32m<ipython-input-128-bf305dc775ea>\u001b[0m in \u001b[0;36m<cell line: 2>\u001b[0;34m()\u001b[0m\n\u001b[1;32m      1\u001b[0m \u001b[0;31m# Run this cell without changes\u001b[0m\u001b[0;34m\u001b[0m\u001b[0;34m\u001b[0m\u001b[0m\n\u001b[0;32m----> 2\u001b[0;31m \u001b[0mreview_summary_prompt\u001b[0m\u001b[0;34m(\u001b[0m\u001b[0mreviews\u001b[0m\u001b[0;34m)\u001b[0m\u001b[0;34m\u001b[0m\u001b[0;34m\u001b[0m\u001b[0m\n\u001b[0m",
            "\u001b[0;32m<ipython-input-127-01d185f3c170>\u001b[0m in \u001b[0;36mreview_summary_prompt\u001b[0;34m(list_of_reviews)\u001b[0m\n\u001b[1;32m      1\u001b[0m \u001b[0;32mdef\u001b[0m \u001b[0mreview_summary_prompt\u001b[0m\u001b[0;34m(\u001b[0m\u001b[0mlist_of_reviews\u001b[0m\u001b[0;34m)\u001b[0m\u001b[0;34m:\u001b[0m\u001b[0;34m\u001b[0m\u001b[0;34m\u001b[0m\u001b[0m\n\u001b[1;32m      2\u001b[0m     \u001b[0;31m# Replace None with appropriate code\u001b[0m\u001b[0;34m\u001b[0m\u001b[0;34m\u001b[0m\u001b[0m\n\u001b[0;32m----> 3\u001b[0;31m     \u001b[0muser_input\u001b[0m \u001b[0;34m=\u001b[0m \u001b[0minput\u001b[0m\u001b[0;34m(\u001b[0m\u001b[0;34m\"please enter a review index: \"\u001b[0m\u001b[0;34m)\u001b[0m\u001b[0;34m\u001b[0m\u001b[0;34m\u001b[0m\u001b[0m\n\u001b[0m\u001b[1;32m      4\u001b[0m     \u001b[0mindex\u001b[0m \u001b[0;34m=\u001b[0m \u001b[0mint\u001b[0m\u001b[0;34m(\u001b[0m\u001b[0muser_input\u001b[0m\u001b[0;34m)\u001b[0m\u001b[0;34m\u001b[0m\u001b[0;34m\u001b[0m\u001b[0m\n\u001b[1;32m      5\u001b[0m     \u001b[0mreview\u001b[0m \u001b[0;34m=\u001b[0m \u001b[0mlist_of_reviews\u001b[0m\u001b[0;34m[\u001b[0m\u001b[0mindex\u001b[0m\u001b[0;34m]\u001b[0m\u001b[0;34m\u001b[0m\u001b[0;34m\u001b[0m\u001b[0m\n",
            "\u001b[0;32m/usr/local/lib/python3.10/dist-packages/ipykernel/kernelbase.py\u001b[0m in \u001b[0;36mraw_input\u001b[0;34m(self, prompt)\u001b[0m\n\u001b[1;32m    849\u001b[0m                 \u001b[0;34m\"raw_input was called, but this frontend does not support input requests.\"\u001b[0m\u001b[0;34m\u001b[0m\u001b[0;34m\u001b[0m\u001b[0m\n\u001b[1;32m    850\u001b[0m             )\n\u001b[0;32m--> 851\u001b[0;31m         return self._input_request(str(prompt),\n\u001b[0m\u001b[1;32m    852\u001b[0m             \u001b[0mself\u001b[0m\u001b[0;34m.\u001b[0m\u001b[0m_parent_ident\u001b[0m\u001b[0;34m,\u001b[0m\u001b[0;34m\u001b[0m\u001b[0;34m\u001b[0m\u001b[0m\n\u001b[1;32m    853\u001b[0m             \u001b[0mself\u001b[0m\u001b[0;34m.\u001b[0m\u001b[0m_parent_header\u001b[0m\u001b[0;34m,\u001b[0m\u001b[0;34m\u001b[0m\u001b[0;34m\u001b[0m\u001b[0m\n",
            "\u001b[0;32m/usr/local/lib/python3.10/dist-packages/ipykernel/kernelbase.py\u001b[0m in \u001b[0;36m_input_request\u001b[0;34m(self, prompt, ident, parent, password)\u001b[0m\n\u001b[1;32m    893\u001b[0m             \u001b[0;32mexcept\u001b[0m \u001b[0mKeyboardInterrupt\u001b[0m\u001b[0;34m:\u001b[0m\u001b[0;34m\u001b[0m\u001b[0;34m\u001b[0m\u001b[0m\n\u001b[1;32m    894\u001b[0m                 \u001b[0;31m# re-raise KeyboardInterrupt, to truncate traceback\u001b[0m\u001b[0;34m\u001b[0m\u001b[0;34m\u001b[0m\u001b[0m\n\u001b[0;32m--> 895\u001b[0;31m                 \u001b[0;32mraise\u001b[0m \u001b[0mKeyboardInterrupt\u001b[0m\u001b[0;34m(\u001b[0m\u001b[0;34m\"Interrupted by user\"\u001b[0m\u001b[0;34m)\u001b[0m \u001b[0;32mfrom\u001b[0m \u001b[0;32mNone\u001b[0m\u001b[0;34m\u001b[0m\u001b[0;34m\u001b[0m\u001b[0m\n\u001b[0m\u001b[1;32m    896\u001b[0m             \u001b[0;32mexcept\u001b[0m \u001b[0mException\u001b[0m \u001b[0;32mas\u001b[0m \u001b[0me\u001b[0m\u001b[0;34m:\u001b[0m\u001b[0;34m\u001b[0m\u001b[0;34m\u001b[0m\u001b[0m\n\u001b[1;32m    897\u001b[0m                 \u001b[0mself\u001b[0m\u001b[0;34m.\u001b[0m\u001b[0mlog\u001b[0m\u001b[0;34m.\u001b[0m\u001b[0mwarning\u001b[0m\u001b[0;34m(\u001b[0m\u001b[0;34m\"Invalid Message:\"\u001b[0m\u001b[0;34m,\u001b[0m \u001b[0mexc_info\u001b[0m\u001b[0;34m=\u001b[0m\u001b[0;32mTrue\u001b[0m\u001b[0;34m)\u001b[0m\u001b[0;34m\u001b[0m\u001b[0;34m\u001b[0m\u001b[0m\n",
            "\u001b[0;31mKeyboardInterrupt\u001b[0m: Interrupted by user"
          ]
        }
      ],
      "source": [
        "# Run this cell without changes\n",
        "review_summary_prompt(reviews)"
      ]
    },
    {
      "cell_type": "markdown",
      "metadata": {
        "id": "erTDbYq9bL35"
      },
      "source": [
        "## Putting It All Together\n",
        "\n",
        "In this section, we are just calling several of the previously-created functions to double-check that they are working as expected. You do not need to write any more code, although if you notice something wrong with one of your functions you can go back and fix it!  Just make sure that you re-run the cell declaring the function if you want the behavior of calling the function to change.\n",
        "\n",
        "### Data Summary"
      ]
    },
    {
      "cell_type": "code",
      "execution_count": 129,
      "metadata": {
        "id": "89rFCcjzbL35",
        "outputId": "3bce843b-ca0f-4f6e-f6e3-ec53fe707b48",
        "colab": {
          "base_uri": "https://localhost:8080/"
        }
      },
      "outputs": [
        {
          "output_type": "stream",
          "name": "stdout",
          "text": [
            "The coffee product review dataset contains 86 reviews\n",
            "\n",
            "Review sentiment:\n",
            "67 positive reviews\n",
            "15 negative reviews\n",
            "4 neutral reviews\n",
            "\n",
            "Review years:\n",
            "[2007, 2008, 2009, 2011, 2012, 2013, 2014, 2015, 2016, 2017, 2018]\n"
          ]
        }
      ],
      "source": [
        "# Run this cell without changes\n",
        "\n",
        "print(f\"The coffee product review dataset contains {len(reviews)} reviews\")\n",
        "print()\n",
        "print(\"Review sentiment:\")\n",
        "for key, value in get_sentiment_counts(reviews).items():\n",
        "    print(f\"{value} {key} reviews\")\n",
        "print()\n",
        "print(\"Review years:\")\n",
        "print(get_years(reviews))"
      ]
    },
    {
      "cell_type": "markdown",
      "metadata": {
        "id": "r46jQVITbL35"
      },
      "source": [
        "### Subset Samples"
      ]
    },
    {
      "cell_type": "code",
      "execution_count": 130,
      "metadata": {
        "id": "3ftWIfaObL35",
        "outputId": "d650cc38-e3e6-4694-b56f-e1fdf5564fd6",
        "colab": {
          "base_uri": "https://localhost:8080/"
        }
      },
      "outputs": [
        {
          "output_type": "stream",
          "name": "stdout",
          "text": [
            "Examples of positive reviews:\n",
            "\"absolutely gorgeous!\": This was a positive review written by Honest Rating in 2012.\n",
            "\"It makes a great cup of joe and looks as if it will ...\": This was a positive review written by Nicholas Driscoll in 2015.\n",
            "\"Best purchase I've made in a long time!\": This was a positive review written by Howright in 2012.\n",
            "\"A great way to get rich tasting coffee.\": This was a positive review written by AA in 2015.\n",
            "\"Perfect for those people who care about their time in the kitchen\": This was a positive review written by Terri S in 2016.\n",
            "\n",
            "Examples of negative reviews:\n",
            "\"FRAME RUSTS WITHIN A FEW WEEKS\": This was a negative review written by Silicon Valley in 2016.\n",
            "\"Leaks and more\": This was a negative review written by Jimmie in 2011.\n",
            "\"Great but NOT PERFECT -missing Side water panel\": This was a negative review written by Toni Bautista in 2017.\n",
            "\"Garbage!!!\": This was a negative review written by cas in 2018.\n",
            "\"Cracked lid out of the box\": This was a negative review written by Picks n Pans in 2008.\n"
          ]
        }
      ],
      "source": [
        "# Run this cell without changes\n",
        "\n",
        "print(\"Examples of positive reviews:\")\n",
        "positive_samples = get_positive_review_sample(reviews, 5)\n",
        "for review in positive_samples:\n",
        "    print(get_review_summary(review))\n",
        "print()\n",
        "print(\"Examples of negative reviews:\")\n",
        "negative_samples = get_negative_review_sample(reviews, 5)\n",
        "for review in negative_samples:\n",
        "    print(get_review_summary(review))"
      ]
    },
    {
      "cell_type": "markdown",
      "metadata": {
        "id": "6fmRqbKObL35"
      },
      "source": [
        "### Summary Prompt"
      ]
    },
    {
      "cell_type": "code",
      "execution_count": 101,
      "metadata": {
        "id": "43YzZYvhbL35",
        "outputId": "6cdb7c72-885e-400c-cdd9-4bff0c815b1b",
        "colab": {
          "base_uri": "https://localhost:8080/",
          "height": 304
        }
      },
      "outputs": [
        {
          "output_type": "error",
          "ename": "KeyboardInterrupt",
          "evalue": "Interrupted by user",
          "traceback": [
            "\u001b[0;31m---------------------------------------------------------------------------\u001b[0m",
            "\u001b[0;31mKeyboardInterrupt\u001b[0m                         Traceback (most recent call last)",
            "\u001b[0;32m<ipython-input-101-bf305dc775ea>\u001b[0m in \u001b[0;36m<cell line: 2>\u001b[0;34m()\u001b[0m\n\u001b[1;32m      1\u001b[0m \u001b[0;31m# Run this cell without changes\u001b[0m\u001b[0;34m\u001b[0m\u001b[0;34m\u001b[0m\u001b[0m\n\u001b[0;32m----> 2\u001b[0;31m \u001b[0mreview_summary_prompt\u001b[0m\u001b[0;34m(\u001b[0m\u001b[0mreviews\u001b[0m\u001b[0;34m)\u001b[0m\u001b[0;34m\u001b[0m\u001b[0;34m\u001b[0m\u001b[0m\n\u001b[0m",
            "\u001b[0;32m<ipython-input-95-01d185f3c170>\u001b[0m in \u001b[0;36mreview_summary_prompt\u001b[0;34m(list_of_reviews)\u001b[0m\n\u001b[1;32m      1\u001b[0m \u001b[0;32mdef\u001b[0m \u001b[0mreview_summary_prompt\u001b[0m\u001b[0;34m(\u001b[0m\u001b[0mlist_of_reviews\u001b[0m\u001b[0;34m)\u001b[0m\u001b[0;34m:\u001b[0m\u001b[0;34m\u001b[0m\u001b[0;34m\u001b[0m\u001b[0m\n\u001b[1;32m      2\u001b[0m     \u001b[0;31m# Replace None with appropriate code\u001b[0m\u001b[0;34m\u001b[0m\u001b[0;34m\u001b[0m\u001b[0m\n\u001b[0;32m----> 3\u001b[0;31m     \u001b[0muser_input\u001b[0m \u001b[0;34m=\u001b[0m \u001b[0minput\u001b[0m\u001b[0;34m(\u001b[0m\u001b[0;34m\"please enter a review index: \"\u001b[0m\u001b[0;34m)\u001b[0m\u001b[0;34m\u001b[0m\u001b[0;34m\u001b[0m\u001b[0m\n\u001b[0m\u001b[1;32m      4\u001b[0m     \u001b[0mindex\u001b[0m \u001b[0;34m=\u001b[0m \u001b[0mint\u001b[0m\u001b[0;34m(\u001b[0m\u001b[0muser_input\u001b[0m\u001b[0;34m)\u001b[0m\u001b[0;34m\u001b[0m\u001b[0;34m\u001b[0m\u001b[0m\n\u001b[1;32m      5\u001b[0m     \u001b[0mreview\u001b[0m \u001b[0;34m=\u001b[0m \u001b[0mlist_of_reviews\u001b[0m\u001b[0;34m[\u001b[0m\u001b[0mindex\u001b[0m\u001b[0;34m]\u001b[0m\u001b[0;34m\u001b[0m\u001b[0;34m\u001b[0m\u001b[0m\n",
            "\u001b[0;32m/usr/local/lib/python3.10/dist-packages/ipykernel/kernelbase.py\u001b[0m in \u001b[0;36mraw_input\u001b[0;34m(self, prompt)\u001b[0m\n\u001b[1;32m    849\u001b[0m                 \u001b[0;34m\"raw_input was called, but this frontend does not support input requests.\"\u001b[0m\u001b[0;34m\u001b[0m\u001b[0;34m\u001b[0m\u001b[0m\n\u001b[1;32m    850\u001b[0m             )\n\u001b[0;32m--> 851\u001b[0;31m         return self._input_request(str(prompt),\n\u001b[0m\u001b[1;32m    852\u001b[0m             \u001b[0mself\u001b[0m\u001b[0;34m.\u001b[0m\u001b[0m_parent_ident\u001b[0m\u001b[0;34m,\u001b[0m\u001b[0;34m\u001b[0m\u001b[0;34m\u001b[0m\u001b[0m\n\u001b[1;32m    853\u001b[0m             \u001b[0mself\u001b[0m\u001b[0;34m.\u001b[0m\u001b[0m_parent_header\u001b[0m\u001b[0;34m,\u001b[0m\u001b[0;34m\u001b[0m\u001b[0;34m\u001b[0m\u001b[0m\n",
            "\u001b[0;32m/usr/local/lib/python3.10/dist-packages/ipykernel/kernelbase.py\u001b[0m in \u001b[0;36m_input_request\u001b[0;34m(self, prompt, ident, parent, password)\u001b[0m\n\u001b[1;32m    893\u001b[0m             \u001b[0;32mexcept\u001b[0m \u001b[0mKeyboardInterrupt\u001b[0m\u001b[0;34m:\u001b[0m\u001b[0;34m\u001b[0m\u001b[0;34m\u001b[0m\u001b[0m\n\u001b[1;32m    894\u001b[0m                 \u001b[0;31m# re-raise KeyboardInterrupt, to truncate traceback\u001b[0m\u001b[0;34m\u001b[0m\u001b[0;34m\u001b[0m\u001b[0m\n\u001b[0;32m--> 895\u001b[0;31m                 \u001b[0;32mraise\u001b[0m \u001b[0mKeyboardInterrupt\u001b[0m\u001b[0;34m(\u001b[0m\u001b[0;34m\"Interrupted by user\"\u001b[0m\u001b[0;34m)\u001b[0m \u001b[0;32mfrom\u001b[0m \u001b[0;32mNone\u001b[0m\u001b[0;34m\u001b[0m\u001b[0;34m\u001b[0m\u001b[0m\n\u001b[0m\u001b[1;32m    896\u001b[0m             \u001b[0;32mexcept\u001b[0m \u001b[0mException\u001b[0m \u001b[0;32mas\u001b[0m \u001b[0me\u001b[0m\u001b[0;34m:\u001b[0m\u001b[0;34m\u001b[0m\u001b[0;34m\u001b[0m\u001b[0m\n\u001b[1;32m    897\u001b[0m                 \u001b[0mself\u001b[0m\u001b[0;34m.\u001b[0m\u001b[0mlog\u001b[0m\u001b[0;34m.\u001b[0m\u001b[0mwarning\u001b[0m\u001b[0;34m(\u001b[0m\u001b[0;34m\"Invalid Message:\"\u001b[0m\u001b[0;34m,\u001b[0m \u001b[0mexc_info\u001b[0m\u001b[0;34m=\u001b[0m\u001b[0;32mTrue\u001b[0m\u001b[0;34m)\u001b[0m\u001b[0;34m\u001b[0m\u001b[0;34m\u001b[0m\u001b[0m\n",
            "\u001b[0;31mKeyboardInterrupt\u001b[0m: Interrupted by user"
          ]
        }
      ],
      "source": [
        "# Run this cell without changes\n",
        "review_summary_prompt(reviews)"
      ]
    },
    {
      "cell_type": "markdown",
      "metadata": {
        "id": "RpABRC-4bL36"
      },
      "source": [
        "## Conclusion\n",
        "\n",
        "Congratulations, you made it to the end of another cumulative lab! In this lab you practiced refactoring previously-written code to use functions, and using loops to avoid repetition and perform analyses of the whole dataset as well as certain subsets."
      ]
    }
  ],
  "metadata": {
    "kernelspec": {
      "display_name": "Python (learn-env)",
      "language": "python",
      "name": "learn-env"
    },
    "language_info": {
      "codemirror_mode": {
        "name": "ipython",
        "version": 3
      },
      "file_extension": ".py",
      "mimetype": "text/x-python",
      "name": "python",
      "nbconvert_exporter": "python",
      "pygments_lexer": "ipython3",
      "version": "3.8.5"
    },
    "colab": {
      "provenance": [],
      "include_colab_link": true
    }
  },
  "nbformat": 4,
  "nbformat_minor": 0
}